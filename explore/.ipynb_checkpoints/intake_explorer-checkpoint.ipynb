{
 "cells": [
  {
   "cell_type": "code",
   "execution_count": null,
   "id": "5ae6bcd2-eee9-4e8b-9ad8-4cbbea2780c6",
   "metadata": {},
   "outputs": [],
   "source": [
    "import intake"
   ]
  },
  {
   "cell_type": "code",
   "execution_count": null,
   "id": "e69e9527-a327-40a3-b7fe-3fe623f8bf6e",
   "metadata": {},
   "outputs": [],
   "source": [
    "CATALOG_LOC = \"/home/sbanik@quansight.com/demo-dashboards/catalog.yml\""
   ]
  },
  {
   "cell_type": "code",
   "execution_count": null,
   "id": "98a933e5-32d9-41c9-a04d-b8ae9107e4ef",
   "metadata": {},
   "outputs": [],
   "source": [
    "catalog = intake.open_catalog(CATALOG_LOC)\n",
    "\n",
    "list(catalog)"
   ]
  },
  {
   "cell_type": "code",
   "execution_count": null,
   "id": "51f3aaae-61a0-4681-9f8b-45b68ea71e21",
   "metadata": {},
   "outputs": [],
   "source": [
    "df = catalog.flu_pneumonia_covid.read()\n",
    "df"
   ]
  },
  {
   "cell_type": "markdown",
   "id": "e728a399-cda6-4426-993b-7c1528354cee",
   "metadata": {},
   "source": [
    "### Exploration "
   ]
  },
  {
   "cell_type": "code",
   "execution_count": null,
   "id": "21f01806-04b3-452d-b962-82672ba87de9",
   "metadata": {},
   "outputs": [],
   "source": [
    "import holoviews as hv\n",
    "hv.extension('bokeh')"
   ]
  },
  {
   "cell_type": "code",
   "execution_count": null,
   "id": "15399a55-f85a-4318-a6a8-687db5db18ef",
   "metadata": {},
   "outputs": [],
   "source": [
    "import matplotlib.pyplot as plt"
   ]
  },
  {
   "cell_type": "code",
   "execution_count": null,
   "id": "e3f08119-e408-4d72-8351-e3985751006f",
   "metadata": {
    "tags": []
   },
   "outputs": [],
   "source": [
    "# ! pip install geopandas"
   ]
  },
  {
   "cell_type": "code",
   "execution_count": null,
   "id": "2c31b4f2-b2c6-4e78-bbc4-cb3445e9cd98",
   "metadata": {},
   "outputs": [],
   "source": [
    "import geopandas"
   ]
  },
  {
   "cell_type": "code",
   "execution_count": null,
   "id": "9041d75e-2878-4a49-8476-2b6fb3d8e68a",
   "metadata": {},
   "outputs": [],
   "source": [
    "gdf = geopandas.GeoDataFrame(\n",
    "    df, geometry=geopandas.points_from_xy(df.LONGTITUDE, df.LATITUDE))"
   ]
  },
  {
   "cell_type": "code",
   "execution_count": null,
   "id": "49880ea6-a012-4489-afde-bd702562d4c2",
   "metadata": {},
   "outputs": [],
   "source": [
    "world = geopandas.read_file(geopandas.datasets.get_path('naturalearth_lowres'))\n",
    "\n",
    "# We restrict to South America.\n",
    "ax = world[world.continent == 'North America'].plot(\n",
    "    color='white', edgecolor='black', figsize=(15, 15))\n",
    "\n",
    "# We can now plot our ``GeoDataFrame``.\n",
    "gdf.plot(ax=ax, color='green')\n",
    "\n",
    "plt.show()"
   ]
  },
  {
   "cell_type": "code",
   "execution_count": null,
   "id": "0afd732b-7887-4110-bf37-c932c5847715",
   "metadata": {},
   "outputs": [],
   "source": []
  }
 ],
 "metadata": {
  "kernelspec": {
   "display_name": "filesystem-qhub-catalog",
   "language": "python",
   "name": "conda-env-filesystem-qhub-catalog-py"
  },
  "language_info": {
   "codemirror_mode": {
    "name": "ipython",
    "version": 3
   },
   "file_extension": ".py",
   "mimetype": "text/x-python",
   "name": "python",
   "nbconvert_exporter": "python",
   "pygments_lexer": "ipython3",
   "version": "3.8.13"
  }
 },
 "nbformat": 4,
 "nbformat_minor": 5
}
