{
 "cells": [
  {
   "cell_type": "markdown",
   "id": "efd09dcf-5ce6-498d-99e8-952888c5bcf9",
   "metadata": {},
   "source": [
    "### ✍️ Required libraries & settings"
   ]
  },
  {
   "cell_type": "code",
   "execution_count": null,
   "id": "63caecde-9f0a-4dbb-8601-7a7a1a554462",
   "metadata": {},
   "outputs": [],
   "source": [
    "import sys\n",
    "sys.path.insert(1, '/home/sbanik@quansight.com/demo-dashboards')\n",
    "\n",
    "import warnings\n",
    "warnings.filterwarnings('ignore')\n",
    "\n",
    "from intake_utils import (\n",
    "    catalog_init,\n",
    "    list_catalog,\n",
    "    view_catalog)\n",
    "\n",
    "import numpy as np\n",
    "import panel as pn\n",
    "import matplotlib.pyplot as plt\n",
    "import hvplot.pandas\n",
    "import holoviews as hv\n",
    "from holoviews import opts,dim\n",
    "from bokeh.models import HoverTool\n",
    "hv.extension('bokeh')"
   ]
  },
  {
   "cell_type": "markdown",
   "id": "9eeaf635-4ea9-44e2-9540-1782156bbbfb",
   "metadata": {},
   "source": [
    "### 📖 Reading via from `intake` catalog\n"
   ]
  },
  {
   "cell_type": "code",
   "execution_count": null,
   "id": "e05491ff-8065-407f-a18e-d5928ef96cdc",
   "metadata": {},
   "outputs": [],
   "source": [
    "catalog = catalog_init()"
   ]
  },
  {
   "cell_type": "code",
   "execution_count": null,
   "id": "6b4887ea-2264-4ae9-a564-e79821739b3b",
   "metadata": {},
   "outputs": [],
   "source": [
    "data_trees = catalog.austin_trees.read()"
   ]
  },
  {
   "cell_type": "code",
   "execution_count": null,
   "id": "226bb877-207a-4899-aae7-9746d7cba69e",
   "metadata": {},
   "outputs": [],
   "source": [
    "data_trees.info()"
   ]
  },
  {
   "cell_type": "code",
   "execution_count": null,
   "id": "da61dc10-0fcb-4386-8578-b6d31fa8e960",
   "metadata": {},
   "outputs": [],
   "source": [
    "data_trees.describe()"
   ]
  },
  {
   "cell_type": "markdown",
   "id": "cd3056b5-1582-4af9-8fec-8683059ed28b",
   "metadata": {},
   "source": [
    "### 🧭 Insights (geo plot)"
   ]
  },
  {
   "cell_type": "code",
   "execution_count": null,
   "id": "17f0589b-e0ea-460b-85b3-dfb5f778bc1d",
   "metadata": {},
   "outputs": [],
   "source": [
    "import plotly.express as px\n",
    "import pandas as pd\n",
    "\n",
    "fig = px.scatter_geo(data_trees,lat='LATITUDE',lon='LONGTITUDE', hover_name=\"SPECIES\")\n",
    "fig.update_layout(title = 'World map', title_x=0.5)\n",
    "fig.show()"
   ]
  }
 ],
 "metadata": {
  "kernelspec": {
   "display_name": "filesystem-qhub-catalog",
   "language": "python",
   "name": "conda-env-filesystem-qhub-catalog-py"
  },
  "language_info": {
   "codemirror_mode": {
    "name": "ipython",
    "version": 3
   },
   "file_extension": ".py",
   "mimetype": "text/x-python",
   "name": "python",
   "nbconvert_exporter": "python",
   "pygments_lexer": "ipython3",
   "version": "3.8.13"
  }
 },
 "nbformat": 4,
 "nbformat_minor": 5
}
