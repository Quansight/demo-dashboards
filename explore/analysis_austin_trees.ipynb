{
 "cells": [
  {
   "cell_type": "markdown",
   "id": "efd09dcf-5ce6-498d-99e8-952888c5bcf9",
   "metadata": {},
   "source": [
    "### ✍️ Required libraries & settings"
   ]
  },
  {
   "cell_type": "code",
   "execution_count": null,
   "id": "63caecde-9f0a-4dbb-8601-7a7a1a554462",
   "metadata": {},
   "outputs": [],
   "source": [
    "import sys\n",
    "sys.path.insert(1, '/home/sbanik@quansight.com/demo-dashboards')\n",
    "\n",
    "import warnings\n",
    "warnings.filterwarnings('ignore')\n",
    "\n",
    "from intake_utils import (\n",
    "    catalog_init,\n",
    "    list_catalog,\n",
    "    view_catalog)\n",
    "\n",
    "import numpy as np\n",
    "import panel as pn\n",
    "import matplotlib.pyplot as plt\n",
    "import hvplot.pandas\n",
    "import holoviews as hv\n",
    "from holoviews import opts,dim\n",
    "from bokeh.models import HoverTool\n",
    "hv.extension('bokeh')"
   ]
  },
  {
   "cell_type": "markdown",
   "id": "85580160-b45a-4bac-ae26-7be34b70f2b6",
   "metadata": {},
   "source": [
    "### 👓 About dataset\n",
    "\n",
    "- **Title :** Austin trees data\n",
    "- **Brief description :** This dataset shows point locations of public trees inventoried by the City of Austin as of March 13th, 2020. Data is compiled from various sources: Development Services Department's Tree Division, AISD, Parks and Recreation Department, and Public Works Department's downtown tree inventory (2013). This is not a complete comprehensive inventory of all trees. Some errors and/or duplicate data may exist. For more information on Austin's urban forest, visit the U.S. Forest Service's Urban Forest Inventory and Analysis report: https://www.fs.usda.gov/treesearch/pubs/50393\n",
    "\n",
    "\n",
    "#### 🗒 Columns in this Dataset:\n",
    "- **GEOMETRY** : Feature's geometry type.\n",
    "- **SPECIES** : Common species name of the tree.\n",
    "- **DIAMETER** : Diameter of tree measure at breast height 4.5-feet from the ground. Units are measured in inches.\n",
    "- **LATITUDE** : Estimated latitude of tree location.\n",
    "- **LONGTITUDE** : Estimated longitude of tree location.\n",
    "- **New Georeferenced Column** : Similar to GEOMETRY"
   ]
  },
  {
   "cell_type": "markdown",
   "id": "9eeaf635-4ea9-44e2-9540-1782156bbbfb",
   "metadata": {},
   "source": [
    "### 📖 Reading via from `intake` catalog\n"
   ]
  },
  {
   "cell_type": "code",
   "execution_count": null,
   "id": "e05491ff-8065-407f-a18e-d5928ef96cdc",
   "metadata": {},
   "outputs": [],
   "source": [
    "catalog = catalog_init()"
   ]
  },
  {
   "cell_type": "code",
   "execution_count": null,
   "id": "6b4887ea-2264-4ae9-a564-e79821739b3b",
   "metadata": {},
   "outputs": [],
   "source": [
    "data_trees = catalog.austin_trees.read()\n",
    "data_trees"
   ]
  },
  {
   "cell_type": "markdown",
   "id": "cd6494c6-14d5-46bd-a09d-8767faced50c",
   "metadata": {},
   "source": [
    "### Data stats and additional info"
   ]
  },
  {
   "cell_type": "code",
   "execution_count": null,
   "id": "226bb877-207a-4899-aae7-9746d7cba69e",
   "metadata": {},
   "outputs": [],
   "source": [
    "data_trees.info()"
   ]
  },
  {
   "cell_type": "code",
   "execution_count": null,
   "id": "da61dc10-0fcb-4386-8578-b6d31fa8e960",
   "metadata": {},
   "outputs": [],
   "source": [
    "data_trees.describe()"
   ]
  },
  {
   "cell_type": "markdown",
   "id": "1b379dd3-8bd3-4308-868d-600c0e661feb",
   "metadata": {},
   "source": [
    "## Insights 🛠"
   ]
  },
  {
   "cell_type": "markdown",
   "id": "353ec585-3bd9-4978-9fc4-7eaa1e914f00",
   "metadata": {},
   "source": [
    "### Various tree species and its abundance"
   ]
  },
  {
   "cell_type": "code",
   "execution_count": null,
   "id": "fe85ac3c-c109-4719-bb36-25e4a511ce3d",
   "metadata": {},
   "outputs": [],
   "source": [
    "specie_abundance = data_trees.SPECIES.value_counts().reset_index().rename(columns={'index': 'Specie_name', 'SPECIES': 'Count'})"
   ]
  },
  {
   "cell_type": "code",
   "execution_count": null,
   "id": "22a99753-5464-4cd4-bdf5-b075db3d86d0",
   "metadata": {},
   "outputs": [],
   "source": [
    "data_trees.groupby(['SPECIES']).DIAMETER.mean().reset_index()"
   ]
  },
  {
   "cell_type": "code",
   "execution_count": null,
   "id": "49be7dbf-c8aa-4859-a414-6b74b035ecb7",
   "metadata": {},
   "outputs": [],
   "source": [
    "specie_count_plot = hv.Table(\n",
    "    specie_abundance, hv.Dimension('Specie_name'), 'Count')\n",
    "specie_count_plot + hv.Curve(\n",
    "    (specie_abundance.Specie_name, specie_abundance.Count),\n",
    "    \"Specie name\", \n",
    "    \"Count\",\n",
    "    label=\"Stats-WIP\")"
   ]
  },
  {
   "cell_type": "markdown",
   "id": "2b2e2a7b-3110-4dc1-a620-2bf9507f096e",
   "metadata": {},
   "source": [
    "### Insights:\n",
    "- `Southern Live Oak` is the most abundant specie in Austin"
   ]
  },
  {
   "cell_type": "code",
   "execution_count": null,
   "id": "b252bafe-4ef9-4b00-86aa-03c74f5207ea",
   "metadata": {},
   "outputs": [],
   "source": []
  },
  {
   "cell_type": "markdown",
   "id": "cd3056b5-1582-4af9-8fec-8683059ed28b",
   "metadata": {},
   "source": [
    "### 🧭 Insights (geo plot)"
   ]
  },
  {
   "cell_type": "code",
   "execution_count": null,
   "id": "17f0589b-e0ea-460b-85b3-dfb5f778bc1d",
   "metadata": {},
   "outputs": [],
   "source": [
    "import plotly.express as px\n",
    "import pandas as pd\n",
    "\n",
    "fig = px.scatter_geo(data_trees,lat='LATITUDE',lon='LONGTITUDE', hover_name=\"SPECIES\")\n",
    "fig.update_layout(title = 'World map', title_x=0.5)\n",
    "fig.show()"
   ]
  },
  {
   "cell_type": "code",
   "execution_count": null,
   "id": "bd89ef5e-4b5b-4b78-a803-8008d000f9af",
   "metadata": {},
   "outputs": [],
   "source": []
  }
 ],
 "metadata": {
  "kernelspec": {
   "display_name": "filesystem-qhub-catalog",
   "language": "python",
   "name": "conda-env-filesystem-qhub-catalog-py"
  },
  "language_info": {
   "codemirror_mode": {
    "name": "ipython",
    "version": 3
   },
   "file_extension": ".py",
   "mimetype": "text/x-python",
   "name": "python",
   "nbconvert_exporter": "python",
   "pygments_lexer": "ipython3",
   "version": "3.8.13"
  }
 },
 "nbformat": 4,
 "nbformat_minor": 5
}
