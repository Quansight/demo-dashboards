{
 "cells": [
  {
   "cell_type": "markdown",
   "id": "efd09dcf-5ce6-498d-99e8-952888c5bcf9",
   "metadata": {},
   "source": [
    "### ✍️ Required libraries & settings"
   ]
  },
  {
   "cell_type": "code",
   "execution_count": null,
   "id": "63caecde-9f0a-4dbb-8601-7a7a1a554462",
   "metadata": {},
   "outputs": [],
   "source": [
    "import sys\n",
    "sys.path.insert(1, '/home/sbanik@quansight.com/demo-dashboards')\n",
    "\n",
    "import warnings\n",
    "warnings.filterwarnings('ignore')\n",
    "\n",
    "from intake_utils import (\n",
    "    catalog_init,\n",
    "    list_catalog,\n",
    "    view_catalog)\n",
    "\n",
    "import numpy as np\n",
    "import panel as pn\n",
    "import geoviews as gv\n",
    "import matplotlib.pyplot as plt\n",
    "import holoviews as hv\n",
    "from holoviews import opts,dim\n",
    "from bokeh.models import HoverTool\n",
    "hv.extension('bokeh')"
   ]
  },
  {
   "cell_type": "markdown",
   "id": "85580160-b45a-4bac-ae26-7be34b70f2b6",
   "metadata": {},
   "source": [
    "### 👓 About dataset\n",
    "\n",
    "- **Title :** Austin trees data\n",
    "- **Brief description :** This dataset shows point locations of public trees inventoried by the City of Austin as of March 13th, 2020. Data is compiled from various sources: Development Services Department's Tree Division, AISD, Parks and Recreation Department, and Public Works Department's downtown tree inventory (2013). This is not a complete comprehensive inventory of all trees. Some errors and/or duplicate data may exist. For more information on Austin's urban forest, visit the U.S. Forest Service's Urban Forest Inventory and Analysis report: https://www.fs.usda.gov/treesearch/pubs/50393\n",
    "\n",
    "\n",
    "#### 🗒 Columns in this Dataset:\n",
    "- **GEOMETRY** : Feature's geometry type.\n",
    "- **SPECIES** : Common species name of the tree.\n",
    "- **DIAMETER** : Diameter of tree measure at breast height 4.5-feet from the ground. Units are measured in inches.\n",
    "- **LATITUDE** : Estimated latitude of tree location.\n",
    "- **LONGTITUDE** : Estimated longitude of tree location.\n",
    "- **New Georeferenced Column** : Similar to GEOMETRY"
   ]
  },
  {
   "cell_type": "markdown",
   "id": "9eeaf635-4ea9-44e2-9540-1782156bbbfb",
   "metadata": {},
   "source": [
    "### 📖 Reading via from `intake` catalog\n"
   ]
  },
  {
   "cell_type": "code",
   "execution_count": null,
   "id": "e05491ff-8065-407f-a18e-d5928ef96cdc",
   "metadata": {},
   "outputs": [],
   "source": [
    "catalog = catalog_init()"
   ]
  },
  {
   "cell_type": "code",
   "execution_count": null,
   "id": "6b4887ea-2264-4ae9-a564-e79821739b3b",
   "metadata": {},
   "outputs": [],
   "source": [
    "data_trees = catalog.austin_trees.read()\n",
    "data_trees.head(1)"
   ]
  },
  {
   "cell_type": "markdown",
   "id": "613d8d50-c4b1-4b53-b5ef-4086f3230f0e",
   "metadata": {},
   "source": [
    "### ✍️ Random checks for anomoly"
   ]
  },
  {
   "cell_type": "code",
   "execution_count": null,
   "id": "9a5559e0-30f3-45ad-ba77-caf26bc790c3",
   "metadata": {},
   "outputs": [],
   "source": [
    "data_trees.loc[data_trees['SPECIES'] =='texas persimmon']"
   ]
  },
  {
   "cell_type": "code",
   "execution_count": null,
   "id": "777674e8-5ab4-4d75-bccc-e07f69b91bd1",
   "metadata": {},
   "outputs": [],
   "source": [
    "data_trees.loc[data_trees['DIAMETER'] ==0.00].shape"
   ]
  },
  {
   "cell_type": "markdown",
   "id": "8dd86851-61ea-4a05-a601-51b6af2daef9",
   "metadata": {},
   "source": [
    "> **Note**\n",
    "- 3630 enteries have diameter as 0.00\n",
    "- We could possibly infer that the trees were *cut/uprooted* due to *industrial/climatic* reasons"
   ]
  },
  {
   "cell_type": "markdown",
   "id": "cd6494c6-14d5-46bd-a09d-8767faced50c",
   "metadata": {},
   "source": [
    "### ✅ Data stats and additional info"
   ]
  },
  {
   "cell_type": "code",
   "execution_count": null,
   "id": "226bb877-207a-4899-aae7-9746d7cba69e",
   "metadata": {},
   "outputs": [],
   "source": [
    "data_trees.info()"
   ]
  },
  {
   "cell_type": "code",
   "execution_count": null,
   "id": "da61dc10-0fcb-4386-8578-b6d31fa8e960",
   "metadata": {},
   "outputs": [],
   "source": [
    "data_trees.describe()"
   ]
  },
  {
   "cell_type": "markdown",
   "id": "1b379dd3-8bd3-4308-868d-600c0e661feb",
   "metadata": {},
   "source": [
    "### 🛠 Pre-processing"
   ]
  },
  {
   "cell_type": "code",
   "execution_count": null,
   "id": "fe85ac3c-c109-4719-bb36-25e4a511ce3d",
   "metadata": {},
   "outputs": [],
   "source": [
    "def process_raw(dataset):\n",
    "    df_macro = dataset.groupby('SPECIES') \\\n",
    "           .agg({'SPECIES':'count', 'DIAMETER':'mean'}) \\\n",
    "           .rename(columns={'SPECIES':'specie_count','DIAMETER':'mean_diameter'}) \\\n",
    "           .reset_index()\\\n",
    "           .sort_values(by=['specie_count','mean_diameter'], ascending=False)\n",
    "    return df_macro"
   ]
  },
  {
   "cell_type": "markdown",
   "id": "8ba3d8d7-0e80-42a3-ba9b-f9dda11123e4",
   "metadata": {},
   "source": [
    "#### ⬇️ Function to select subset of dataset\n"
   ]
  },
  {
   "cell_type": "code",
   "execution_count": null,
   "id": "49da1844-6fef-403f-888e-0b44904bfe69",
   "metadata": {},
   "outputs": [],
   "source": [
    "def select_n_specie(count, data_trees):\n",
    "    if count > 0:\n",
    "        df_macro = process_raw(data_trees)\n",
    "        specie_name_list = df_macro[:int(count)].SPECIES.to_list()\n",
    "        df_raw_subset = data_trees.query('SPECIES in @specie_name_list')\n",
    "        df_processed_subset = process_raw(df_raw_subset)\n",
    "    else:\n",
    "        print(\"Enter value greater than 0\")\n",
    "\n",
    "    return df_raw_subset, df_processed_subset"
   ]
  },
  {
   "cell_type": "markdown",
   "id": "982ccba0-559f-41f5-89d5-f4e73214eb25",
   "metadata": {},
   "source": [
    "#### ⬇️ Usage of the function "
   ]
  },
  {
   "cell_type": "code",
   "execution_count": null,
   "id": "d2dc3233-287b-4988-a970-71ff0fbbd454",
   "metadata": {},
   "outputs": [],
   "source": [
    "a,b = select_n_specie(3, data_trees)"
   ]
  },
  {
   "cell_type": "markdown",
   "id": "e52cf2dd-26a9-4070-99de-2ef96318ba66",
   "metadata": {},
   "source": [
    "## 📊 Insights"
   ]
  },
  {
   "cell_type": "markdown",
   "id": "759e28b5-c5c5-4ebc-a56d-f461bfccf8b8",
   "metadata": {},
   "source": [
    "### 🌱  Violin plot, specie overview based on diameter distribution\n",
    "\n",
    "**About violin plot**\n",
    "\n",
    " A violin plot depicts distributions of numeric data for one or more groups using density curves.  \n",
    " The width of each curve corresponds with the approximate frequency of data points in each region.   \n",
    " Densities are frequently accompanied by an overlaid chart type, such as box plot, to provide additional information."
   ]
  },
  {
   "cell_type": "code",
   "execution_count": null,
   "id": "49be7dbf-c8aa-4859-a414-6b74b035ecb7",
   "metadata": {},
   "outputs": [],
   "source": [
    "key_dimensions   = [('DIAMETER', 'Diameter (inches)')]\n",
    "value_dimensions = [('SPECIES', 'Specie name')]\n",
    "\n",
    "\n",
    "count_widget = pn.widgets.IntSlider(name = 'Specie count', value = 5, start = 1, end = 15)\n",
    "hover = HoverTool(tooltips=[('DIAMETER','$y')])\n",
    "\n",
    "@pn.depends(count_widget.param.value)\n",
    "def plotting_specie(count_widget):\n",
    "    df_top_10_raw,df_top_10_processed = select_n_specie(count_widget, data_trees)\n",
    "    fig = hv.Violin(df_top_10_raw, value_dimensions, key_dimensions).opts(xrotation=45, width=800, height=400, \n",
    "                                                                          violin_fill_color=dim('SPECIES').str(), \n",
    "                                                                          cmap='Set1', tools=[hover])\n",
    "    return fig\n",
    "\n",
    "widgets = pn.WidgetBox(count_widget)\n",
    "pn.Column(widgets, plotting_specie)"
   ]
  },
  {
   "cell_type": "markdown",
   "id": "5ded4dc3-ae11-4a71-9ebf-8b4636343ca2",
   "metadata": {},
   "source": [
    "### Insights\n",
    "\n",
    "From the max width of the violin plot we can infer the respective concentration of diameter value, for example *Pecan* has maximum concentration (mean) of diameter at 18.4 inch"
   ]
  },
  {
   "cell_type": "markdown",
   "id": "7b1fbe76-5a6f-4ccc-9528-f1fd7d91c361",
   "metadata": {},
   "source": [
    "### 📖 Distribution plot based mean diameter and abundance [Top 10 specie]"
   ]
  },
  {
   "cell_type": "code",
   "execution_count": null,
   "id": "53263519-df02-4a46-8409-a1e40a576b30",
   "metadata": {},
   "outputs": [],
   "source": [
    "value_dimensions   = [('mean_diameter', 'Mean diameter (measure unit=inches)'), ('specie_count', 'Specie Count')]\n",
    "key_dimensions = [('SPECIES', 'SPECIES')]\n",
    "df_top_10_raw,df_top_10_processed = select_n_specie(10, data_trees)\n",
    "macro = hv.Table(df_top_10_processed, key_dimensions, value_dimensions)\n",
    "\n",
    "plot_each_specie = macro.to.table('specie_count', 'Mean diameter (measure unit=inches)').opts(height=50, width=400)\n",
    "hover = HoverTool(tooltips=[('DIAMETER','$x')])\n",
    "plot_each_specie + hv.Distribution(\n",
    "    data=df_top_10_raw,\n",
    "    kdims=['DIAMETER'],\n",
    "    vdims=['SPECIES'],\n",
    ").groupby(\n",
    "    'SPECIES'\n",
    ").opts(tools=[hover])"
   ]
  },
  {
   "cell_type": "markdown",
   "id": "1a16bb50-bda7-4b16-8250-c2198ff4feaa",
   "metadata": {},
   "source": [
    "### Insight\n",
    "- The distributions are heavily right skewed (Positive skewed) normal distributions.\n",
    "- We can infer from above distributions that diameter *Mean  >  Median  >  Mode*"
   ]
  },
  {
   "cell_type": "markdown",
   "id": "cd3056b5-1582-4af9-8fec-8683059ed28b",
   "metadata": {},
   "source": [
    "### 🧭 Geo plot"
   ]
  },
  {
   "cell_type": "code",
   "execution_count": null,
   "id": "8d430756-aa61-4655-a707-0fc77cb4554d",
   "metadata": {},
   "outputs": [],
   "source": [
    "%%opts Points [width=900 height=650 title=\"Location of different species in Austin\" tools=[\"hover\"]]\n",
    "%%opts Points (color=\"dodgerblue\" hover_color=\"lime\" line_color=\"black\")\n"
   ]
  },
  {
   "cell_type": "code",
   "execution_count": null,
   "id": "e9cbca07-0780-4e3b-96cf-a36bf820233b",
   "metadata": {},
   "outputs": [],
   "source": [
    "us_pop_points = gv.Points(data_trees[:5000],\n",
    "                                kdims=[\"LONGTITUDE\", \"LATITUDE\"],\n",
    "                                vdims=[\"SPECIES\"],\n",
    "                            ).opts(\n",
    "                                size=12,\n",
    "                            )\n",
    "\n",
    "us_pop_points * gv.tile_sources.Wikipedia()"
   ]
  }
 ],
 "metadata": {
  "kernelspec": {
   "display_name": "filesystem-dashboard",
   "language": "python",
   "name": "conda-env-filesystem-dashboard-py"
  },
  "language_info": {
   "codemirror_mode": {
    "name": "ipython",
    "version": 3
   },
   "file_extension": ".py",
   "mimetype": "text/x-python",
   "name": "python",
   "nbconvert_exporter": "python",
   "pygments_lexer": "ipython3",
   "version": "3.10.4"
  }
 },
 "nbformat": 4,
 "nbformat_minor": 5
}
