{
 "cells": [
  {
   "cell_type": "markdown",
   "id": "efd09dcf-5ce6-498d-99e8-952888c5bcf9",
   "metadata": {},
   "source": [
    "### ✍️ Required libraries & settings"
   ]
  },
  {
   "cell_type": "code",
   "execution_count": null,
   "id": "63caecde-9f0a-4dbb-8601-7a7a1a554462",
   "metadata": {},
   "outputs": [],
   "source": [
    "import sys\n",
    "sys.path.insert(1, '/home/sbanik@quansight.com/demo-dashboards')\n",
    "\n",
    "import warnings\n",
    "warnings.filterwarnings('ignore')\n",
    "\n",
    "from intake_utils import (\n",
    "    catalog_init,\n",
    "    list_catalog,\n",
    "    view_catalog)\n",
    "\n",
    "import numpy as np\n",
    "import panel as pn\n",
    "import geoviews as gv\n",
    "import matplotlib.pyplot as plt\n",
    "import holoviews as hv\n",
    "from holoviews import opts,dim\n",
    "from bokeh.models import HoverTool\n",
    "hv.extension('bokeh')"
   ]
  },
  {
   "cell_type": "markdown",
   "id": "85580160-b45a-4bac-ae26-7be34b70f2b6",
   "metadata": {},
   "source": [
    "### 👓 About dataset\n",
    "\n",
    "- **Title :** Austin trees data\n",
    "- **Brief description :** This dataset shows point locations of public trees inventoried by the City of Austin as of March 13th, 2020. Data is compiled from various sources: Development Services Department's Tree Division, AISD, Parks and Recreation Department, and Public Works Department's downtown tree inventory (2013). This is not a complete comprehensive inventory of all trees. Some errors and/or duplicate data may exist. For more information on Austin's urban forest, visit the U.S. Forest Service's Urban Forest Inventory and Analysis report: https://www.fs.usda.gov/treesearch/pubs/50393\n",
    "- **Unique specie count post cleaning** = 360\n",
    "\n",
    "\n",
    "#### 🗒 Columns in this Dataset:\n",
    "- **GEOMETRY** : Feature's geometry type.\n",
    "- **SPECIES** : Common species name of the tree.\n",
    "- **DIAMETER** : Diameter of tree measure at breast height 4.5-feet from the ground. Units are measured in inches.\n",
    "- **LATITUDE** : Estimated latitude of tree location.\n",
    "- **LONGTITUDE** : Estimated longitude of tree location.\n",
    "- **New Georeferenced Column** : Similar to GEOMETRY"
   ]
  },
  {
   "cell_type": "markdown",
   "id": "9eeaf635-4ea9-44e2-9540-1782156bbbfb",
   "metadata": {},
   "source": [
    "### 📖 Reading via from `intake` catalog\n"
   ]
  },
  {
   "cell_type": "code",
   "execution_count": null,
   "id": "e05491ff-8065-407f-a18e-d5928ef96cdc",
   "metadata": {},
   "outputs": [],
   "source": [
    "catalog = catalog_init()"
   ]
  },
  {
   "cell_type": "code",
   "execution_count": null,
   "id": "6b4887ea-2264-4ae9-a564-e79821739b3b",
   "metadata": {},
   "outputs": [],
   "source": [
    "data_trees = catalog.austin_trees.read()\n",
    "data_trees.head(1)"
   ]
  },
  {
   "cell_type": "markdown",
   "id": "65123e21-0946-4807-b1c1-1c00983b550c",
   "metadata": {},
   "source": [
    "### Data cleaning, specie coloumn"
   ]
  },
  {
   "cell_type": "code",
   "execution_count": null,
   "id": "bd5acf48-33c3-45b1-bff6-3a81f6a3eae9",
   "metadata": {},
   "outputs": [],
   "source": [
    "# convering specie names to lower case \n",
    "data_trees['SPECIES'] = [x.lower() for x in data_trees.SPECIES.astype(str)]\n",
    "#data_trees['SPECIES'].unique()"
   ]
  },
  {
   "cell_type": "code",
   "execution_count": null,
   "id": "fb675015-3d75-4e2f-8321-3d21097684e8",
   "metadata": {},
   "outputs": [],
   "source": [
    "\"\"\"\n",
    "A lot is happening here, overall the expected outcome is to have all the specie name is sync:\n",
    "- First step is to check if the specie name has a `,`\n",
    "- Then the name is split by `,` reversed and again joined via space \n",
    "- Last is to strip any extra spaces\n",
    "\"\"\"\n",
    "data_trees['SPECIES'] = [str(\" \".join(reversed(x.split(\",\"))).strip()) if ',' in x else x for x in data_trees.SPECIES]"
   ]
  },
  {
   "cell_type": "code",
   "execution_count": null,
   "id": "0f0de0ed-0c16-45ed-ac41-975e586b258c",
   "metadata": {},
   "outputs": [],
   "source": [
    "# replacing southern live oak's multiple occurances\n",
    "occurance = ['southern live oak', 'live (southern) oak']\n",
    "data_trees.loc[data_trees['SPECIES'].isin(occurance), 'SPECIES'] = 'southern live oak'"
   ]
  },
  {
   "cell_type": "code",
   "execution_count": null,
   "id": "d7afe5cd-d65d-4ac0-bb44-3cdb865b2230",
   "metadata": {},
   "outputs": [],
   "source": [
    "unique_specie_count = len(data_trees['SPECIES'].unique())\n",
    "print(\"Unique specie count =\", unique_specie_count)"
   ]
  },
  {
   "cell_type": "markdown",
   "id": "613d8d50-c4b1-4b53-b5ef-4086f3230f0e",
   "metadata": {},
   "source": [
    "### ✍️ Random checks "
   ]
  },
  {
   "cell_type": "code",
   "execution_count": null,
   "id": "777674e8-5ab4-4d75-bccc-e07f69b91bd1",
   "metadata": {},
   "outputs": [],
   "source": [
    "data_trees.loc[data_trees['DIAMETER'] ==0.00].shape"
   ]
  },
  {
   "cell_type": "code",
   "execution_count": null,
   "id": "a04b8c90-f48e-4d71-bad6-e1ed9e72c242",
   "metadata": {},
   "outputs": [],
   "source": [
    "data_trees.loc[data_trees['SPECIES'] =='unknown'].shape"
   ]
  },
  {
   "cell_type": "markdown",
   "id": "8dd86851-61ea-4a05-a601-51b6af2daef9",
   "metadata": {},
   "source": [
    "> **Note**\n",
    "- 3630 enteries have diameter as 0.00\n",
    "- We could possibly infer that the trees were *cut/uprooted* due to *industrial/climatic* reasons\n",
    "- 372 data points have species marked as unknown, possibly rare and not identified yet"
   ]
  },
  {
   "cell_type": "markdown",
   "id": "cd6494c6-14d5-46bd-a09d-8767faced50c",
   "metadata": {},
   "source": [
    "### ✅ Data stats and additional info"
   ]
  },
  {
   "cell_type": "code",
   "execution_count": null,
   "id": "226bb877-207a-4899-aae7-9746d7cba69e",
   "metadata": {},
   "outputs": [],
   "source": [
    "data_trees.info()"
   ]
  },
  {
   "cell_type": "code",
   "execution_count": null,
   "id": "da61dc10-0fcb-4386-8578-b6d31fa8e960",
   "metadata": {},
   "outputs": [],
   "source": [
    "data_trees.describe()"
   ]
  },
  {
   "cell_type": "markdown",
   "id": "1b379dd3-8bd3-4308-868d-600c0e661feb",
   "metadata": {},
   "source": [
    "### 🛠 Pre-processing"
   ]
  },
  {
   "cell_type": "code",
   "execution_count": null,
   "id": "fe85ac3c-c109-4719-bb36-25e4a511ce3d",
   "metadata": {},
   "outputs": [],
   "source": [
    "def process_raw(dataset):\n",
    "    df_macro = dataset.groupby('SPECIES') \\\n",
    "           .agg({'SPECIES':'count', 'DIAMETER':'mean'}) \\\n",
    "           .rename(columns={'SPECIES':'specie_count','DIAMETER':'mean_diameter'}) \\\n",
    "           .reset_index()\\\n",
    "           .sort_values(by=['specie_count','mean_diameter'], ascending=False)\n",
    "    return df_macro"
   ]
  },
  {
   "cell_type": "markdown",
   "id": "8ba3d8d7-0e80-42a3-ba9b-f9dda11123e4",
   "metadata": {},
   "source": [
    "#### ⬇️ Function to select subset of dataset\n"
   ]
  },
  {
   "cell_type": "code",
   "execution_count": null,
   "id": "49da1844-6fef-403f-888e-0b44904bfe69",
   "metadata": {},
   "outputs": [],
   "source": [
    "def select_n_specie(count, data_trees):\n",
    "    if count > 0:\n",
    "        df_macro = process_raw(data_trees)\n",
    "        specie_name_list = df_macro[:int(count)].SPECIES.to_list()\n",
    "        df_raw_subset = data_trees.query('SPECIES in @specie_name_list')\n",
    "        df_processed_subset = process_raw(df_raw_subset)\n",
    "    else:\n",
    "        print(\"Enter value greater than 0\")\n",
    "\n",
    "    return df_raw_subset, df_processed_subset"
   ]
  },
  {
   "cell_type": "markdown",
   "id": "982ccba0-559f-41f5-89d5-f4e73214eb25",
   "metadata": {},
   "source": [
    "#### ⬇️ Usage of the function "
   ]
  },
  {
   "cell_type": "code",
   "execution_count": null,
   "id": "d2dc3233-287b-4988-a970-71ff0fbbd454",
   "metadata": {},
   "outputs": [],
   "source": [
    "a,b = select_n_specie(3, data_trees)"
   ]
  },
  {
   "cell_type": "markdown",
   "id": "e52cf2dd-26a9-4070-99de-2ef96318ba66",
   "metadata": {},
   "source": [
    "## 📊 Insights"
   ]
  },
  {
   "cell_type": "markdown",
   "id": "759e28b5-c5c5-4ebc-a56d-f461bfccf8b8",
   "metadata": {},
   "source": [
    "### 🌱  Violin plot, specie overview based on diameter distribution\n",
    "\n",
    "**About violin plot**\n",
    "\n",
    " A violin plot depicts distributions of numeric data for one or more groups using density curves.  \n",
    " The width of each curve corresponds with the approximate frequency of data points in each region.   \n",
    " Densities are frequently accompanied by an overlaid chart type, such as box plot, to provide additional information."
   ]
  },
  {
   "cell_type": "code",
   "execution_count": null,
   "id": "49be7dbf-c8aa-4859-a414-6b74b035ecb7",
   "metadata": {},
   "outputs": [],
   "source": [
    "key_dimensions   = [('DIAMETER', 'Diameter (inches)')]\n",
    "value_dimensions = [('SPECIES', 'Specie name')]\n",
    "\n",
    "\n",
    "count_widget = pn.widgets.IntSlider(name = 'Specie count', value = 7, start = 1, end = 15)\n",
    "hover = HoverTool(tooltips=[('DIAMETER','$y')])\n",
    "\n",
    "@pn.depends(count_widget.param.value)\n",
    "def plotting_specie(count_widget):\n",
    "    df_top_10_raw,df_top_10_processed = select_n_specie(count_widget, data_trees)\n",
    "    fig = hv.Violin(df_top_10_raw, value_dimensions, key_dimensions).opts(xrotation=45, width=800, height=400, \n",
    "                                                                          violin_fill_color=dim('SPECIES').str(), \n",
    "                                                                          cmap='Set1', tools=[hover])\n",
    "    return fig\n",
    "\n",
    "widgets = pn.WidgetBox(count_widget)\n",
    "pn.Column(widgets, plotting_specie)"
   ]
  },
  {
   "cell_type": "markdown",
   "id": "5ded4dc3-ae11-4a71-9ebf-8b4636343ca2",
   "metadata": {},
   "source": [
    "### Insights\n",
    "\n",
    "From the max width of the violin plot we can infer the respective concentration of diameter value, for example *Pecan* has maximum concentration (mean) of diameter at 18.4 inch"
   ]
  },
  {
   "cell_type": "markdown",
   "id": "7b1fbe76-5a6f-4ccc-9528-f1fd7d91c361",
   "metadata": {},
   "source": [
    "### 📖 Distribution plot based mean diameter and abundance [Top 10 specie]"
   ]
  },
  {
   "cell_type": "code",
   "execution_count": null,
   "id": "53263519-df02-4a46-8409-a1e40a576b30",
   "metadata": {},
   "outputs": [],
   "source": [
    "value_dimensions   = [('mean_diameter', 'Mean diameter (measure unit=inches)'), ('specie_count', 'Specie Count')]\n",
    "key_dimensions = [('SPECIES', 'SPECIES')]\n",
    "df_top_10_raw,df_top_10_processed = select_n_specie(10, data_trees)\n",
    "macro = hv.Table(df_top_10_processed, key_dimensions, value_dimensions)\n",
    "\n",
    "plot_each_specie = macro.to.table('specie_count', 'Mean diameter (measure unit=inches)').opts(height=50, width=400)\n",
    "hover = HoverTool(tooltips=[('DIAMETER','$x')])\n",
    "plot_each_specie + hv.Distribution(\n",
    "    data=df_top_10_raw,\n",
    "    kdims=['DIAMETER'],\n",
    "    vdims=['SPECIES'],\n",
    ").groupby(\n",
    "    'SPECIES'\n",
    ").opts(tools=[hover])"
   ]
  },
  {
   "cell_type": "markdown",
   "id": "1a16bb50-bda7-4b16-8250-c2198ff4feaa",
   "metadata": {},
   "source": [
    "### Insight\n",
    "- The distributions are heavily right skewed (Positive skewed) normal distributions.\n",
    "- We can infer from above distributions that diameter *Mean  >  Median  >  Mode*"
   ]
  },
  {
   "cell_type": "code",
   "execution_count": null,
   "id": "980508a6-4bac-4a1a-adb3-cad25f4b5618",
   "metadata": {},
   "outputs": [],
   "source": [
    "data_trees['rounded_diameter'] = data_trees['DIAMETER'].round()\n",
    "df_diameter = data_trees['rounded_diameter'].value_counts().reset_index().rename(columns={'index': 'rounded_diameter', 'rounded_diameter': 'count'})\n",
    "\n",
    "hover = HoverTool(tooltips=[(\"Diameter\", \"@rounded_diameter\"),\n",
    "                            (\"Count\", \"@count\")])\n",
    "\n",
    "tree_count_less_60 = hv.Bars(df_diameter.loc[df_diameter.rounded_diameter<60],'rounded_diameter','count', label=\"Count of trees based on diameter < 60\") \n",
    "tree_count_less_60.opts(width=850, height=400, xrotation=45, tools = [hover]) \n",
    "tree_count_greater_60 = hv.Bars(df_diameter.loc[df_diameter.rounded_diameter>60],'rounded_diameter','count', label=\"Count of trees based on diameter > 60\") \n",
    "tree_count_greater_60.opts(width=400, height=400, xrotation=45, tools = [hover]) \n",
    "\n",
    "plot = (tree_count_less_60 + tree_count_greater_60).cols(2)\n",
    "plot.opts(opts.Layout(shared_axes=False, merge_tools=True))"
   ]
  },
  {
   "cell_type": "markdown",
   "id": "7e5a89af-6128-4aa1-9f6e-783c2a114f5e",
   "metadata": {},
   "source": [
    "### Insights\n",
    "- The count of trees having diameter lesser than 10 is more abundant\n",
    "- An exception is observed for diameter = 0 which is probably cause of deforestration\n",
    "- There are only a handful of trees which are having diameter greater than 50, indicating aged/full-grown trees are less abundant "
   ]
  },
  {
   "cell_type": "markdown",
   "id": "cd3056b5-1582-4af9-8fec-8683059ed28b",
   "metadata": {},
   "source": [
    "### 🧭 Geo plot"
   ]
  },
  {
   "cell_type": "code",
   "execution_count": null,
   "id": "8d430756-aa61-4655-a707-0fc77cb4554d",
   "metadata": {},
   "outputs": [],
   "source": [
    "%%opts Points [width=900 height=650 title=\"Location of different species in Austin\" tools=[\"hover\"]]\n",
    "%%opts Points (color=\"dodgerblue\" hover_color=\"lime\" line_color=\"black\")\n"
   ]
  },
  {
   "cell_type": "code",
   "execution_count": null,
   "id": "e9cbca07-0780-4e3b-96cf-a36bf820233b",
   "metadata": {},
   "outputs": [],
   "source": [
    "us_pop_points = gv.Points(data_trees[:5000],\n",
    "                                kdims=[\"LONGTITUDE\", \"LATITUDE\"],\n",
    "                                vdims=[\"SPECIES\"],\n",
    "                            ).opts(\n",
    "                                size=12,\n",
    "                            )\n",
    "\n",
    "us_pop_points * gv.tile_sources.Wikipedia()"
   ]
  },
  {
   "cell_type": "code",
   "execution_count": null,
   "id": "8208bfab-4bd6-406c-a745-aa27ebf35ca0",
   "metadata": {},
   "outputs": [],
   "source": [
    "# import datashader as ds"
   ]
  },
  {
   "cell_type": "code",
   "execution_count": null,
   "id": "81a7f1a5-41d1-4a2c-bfd6-fa25144bdf0e",
   "metadata": {},
   "outputs": [],
   "source": []
  }
 ],
 "metadata": {
  "kernelspec": {
   "display_name": "filesystem-dashboard",
   "language": "python",
   "name": "conda-env-filesystem-dashboard-py"
  },
  "language_info": {
   "codemirror_mode": {
    "name": "ipython",
    "version": 3
   },
   "file_extension": ".py",
   "mimetype": "text/x-python",
   "name": "python",
   "nbconvert_exporter": "python",
   "pygments_lexer": "ipython3",
   "version": "3.10.4"
  }
 },
 "nbformat": 4,
 "nbformat_minor": 5
}
