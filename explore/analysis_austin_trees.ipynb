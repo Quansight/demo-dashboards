{
 "cells": [
  {
   "cell_type": "markdown",
   "id": "efd09dcf-5ce6-498d-99e8-952888c5bcf9",
   "metadata": {},
   "source": [
    "### ✍️ Required libraries & settings"
   ]
  },
  {
   "cell_type": "code",
   "execution_count": null,
   "id": "63caecde-9f0a-4dbb-8601-7a7a1a554462",
   "metadata": {},
   "outputs": [],
   "source": [
    "import sys\n",
    "sys.path.insert(1, '/home/sbanik@quansight.com/demo-dashboards')\n",
    "\n",
    "import warnings\n",
    "warnings.filterwarnings('ignore')\n",
    "\n",
    "from intake_utils import (\n",
    "    catalog_init,\n",
    "    list_catalog,\n",
    "    view_catalog)\n",
    "\n",
    "import numpy as np\n",
    "import panel as pn\n",
    "import geoviews as gv\n",
    "import matplotlib.pyplot as plt\n",
    "import holoviews as hv\n",
    "from holoviews import opts,dim\n",
    "from bokeh.models import HoverTool\n",
    "hv.extension('bokeh')"
   ]
  },
  {
   "cell_type": "markdown",
   "id": "85580160-b45a-4bac-ae26-7be34b70f2b6",
   "metadata": {},
   "source": [
    "### 👓 About dataset\n",
    "\n",
    "- **Title :** Austin trees data\n",
    "- **Brief description :** This dataset shows point locations of public trees inventoried by the City of Austin as of March 13th, 2020. Data is compiled from various sources: Development Services Department's Tree Division, AISD, Parks and Recreation Department, and Public Works Department's downtown tree inventory (2013). This is not a complete comprehensive inventory of all trees. Some errors and/or duplicate data may exist. For more information on Austin's urban forest, visit the U.S. Forest Service's Urban Forest Inventory and Analysis report: https://www.fs.usda.gov/treesearch/pubs/50393\n",
    "- **Unique specie count post cleaning** = 360\n",
    "\n",
    "\n",
    "#### 🗒 Columns in this Dataset:\n",
    "- **GEOMETRY** : Feature's geometry type.\n",
    "- **SPECIES** : Common species name of the tree.\n",
    "- **DIAMETER** : Diameter of tree measure at breast height 4.5-feet from the ground. Units are measured in inches.\n",
    "- **LATITUDE** : Estimated latitude of tree location.\n",
    "- **LONGTITUDE** : Estimated longitude of tree location.\n",
    "- **New Georeferenced Column** : Similar to GEOMETRY"
   ]
  },
  {
   "cell_type": "markdown",
   "id": "9eeaf635-4ea9-44e2-9540-1782156bbbfb",
   "metadata": {},
   "source": [
    "### 📖 Reading via from `intake` catalog\n"
   ]
  },
  {
   "cell_type": "code",
   "execution_count": null,
   "id": "e05491ff-8065-407f-a18e-d5928ef96cdc",
   "metadata": {},
   "outputs": [],
   "source": [
    "catalog = catalog_init()"
   ]
  },
  {
   "cell_type": "code",
   "execution_count": null,
   "id": "6b4887ea-2264-4ae9-a564-e79821739b3b",
   "metadata": {},
   "outputs": [],
   "source": [
    "data_trees = catalog.austin_trees.read()\n",
    "data_trees.head(1)"
   ]
  },
  {
   "cell_type": "markdown",
   "id": "65123e21-0946-4807-b1c1-1c00983b550c",
   "metadata": {},
   "source": [
    "### Data cleaning, specie coloumn"
   ]
  },
  {
   "cell_type": "code",
   "execution_count": null,
   "id": "bd5acf48-33c3-45b1-bff6-3a81f6a3eae9",
   "metadata": {},
   "outputs": [],
   "source": [
    "# convering specie names to lower case \n",
    "data_trees['SPECIES'] = [x.lower() for x in data_trees.SPECIES.astype(str)]"
   ]
  },
  {
   "cell_type": "code",
   "execution_count": null,
   "id": "fb675015-3d75-4e2f-8321-3d21097684e8",
   "metadata": {},
   "outputs": [],
   "source": [
    "\"\"\"\n",
    "A lot is happening here, overall the expected outcome is to have all the specie name is sync:\n",
    "- First step is to check if the specie name has a `,`\n",
    "- Then the name is split by `,` reversed and again joined via space \n",
    "- Last is to strip any extra spaces\n",
    "\"\"\"\n",
    "data_trees['SPECIES'] = [str(\" \".join(reversed(x.split(\",\"))).strip()) if ',' in x else x for x in data_trees.SPECIES]"
   ]
  },
  {
   "cell_type": "code",
   "execution_count": null,
   "id": "0f0de0ed-0c16-45ed-ac41-975e586b258c",
   "metadata": {},
   "outputs": [],
   "source": [
    "# replacing southern live oak's multiple occurances\n",
    "occurance = ['southern live oak', 'live (southern) oak']\n",
    "data_trees.loc[data_trees['SPECIES'].isin(occurance), 'SPECIES'] = 'southern live oak'"
   ]
  },
  {
   "cell_type": "code",
   "execution_count": null,
   "id": "d7afe5cd-d65d-4ac0-bb44-3cdb865b2230",
   "metadata": {},
   "outputs": [],
   "source": [
    "unique_specie_count = len(data_trees['SPECIES'].unique())\n",
    "print(\"Unique specie count =\", unique_specie_count)"
   ]
  },
  {
   "cell_type": "markdown",
   "id": "613d8d50-c4b1-4b53-b5ef-4086f3230f0e",
   "metadata": {},
   "source": [
    "### ✍️ Random checks "
   ]
  },
  {
   "cell_type": "code",
   "execution_count": null,
   "id": "777674e8-5ab4-4d75-bccc-e07f69b91bd1",
   "metadata": {},
   "outputs": [],
   "source": [
    "data_trees.loc[data_trees['DIAMETER'] ==0.00].shape"
   ]
  },
  {
   "cell_type": "code",
   "execution_count": null,
   "id": "a04b8c90-f48e-4d71-bad6-e1ed9e72c242",
   "metadata": {},
   "outputs": [],
   "source": [
    "data_trees.loc[data_trees['SPECIES'] =='unknown'].shape"
   ]
  },
  {
   "cell_type": "markdown",
   "id": "8dd86851-61ea-4a05-a601-51b6af2daef9",
   "metadata": {},
   "source": [
    "> **Note**\n",
    "- 3630 enteries have diameter as 0.00\n",
    "- We could possibly infer that the trees were *cut/uprooted* due to *industrial/climatic* reasons\n",
    "- 372 data points have species marked as unknown, possibly rare and not identified yet"
   ]
  },
  {
   "cell_type": "markdown",
   "id": "cd6494c6-14d5-46bd-a09d-8767faced50c",
   "metadata": {},
   "source": [
    "### ✅ Data stats and additional info"
   ]
  },
  {
   "cell_type": "code",
   "execution_count": null,
   "id": "226bb877-207a-4899-aae7-9746d7cba69e",
   "metadata": {},
   "outputs": [],
   "source": [
    "data_trees.info()"
   ]
  },
  {
   "cell_type": "code",
   "execution_count": null,
   "id": "da61dc10-0fcb-4386-8578-b6d31fa8e960",
   "metadata": {},
   "outputs": [],
   "source": [
    "data_trees.describe()"
   ]
  },
  {
   "cell_type": "markdown",
   "id": "1b379dd3-8bd3-4308-868d-600c0e661feb",
   "metadata": {},
   "source": [
    "### 🛠 Pre-processing"
   ]
  },
  {
   "cell_type": "code",
   "execution_count": null,
   "id": "fe85ac3c-c109-4719-bb36-25e4a511ce3d",
   "metadata": {},
   "outputs": [],
   "source": [
    "def process_raw(dataset):\n",
    "    df_macro = dataset.groupby('SPECIES') \\\n",
    "           .agg({'SPECIES':'count', 'DIAMETER':'mean'}) \\\n",
    "           .rename(columns={'SPECIES':'specie_count','DIAMETER':'mean_diameter'}) \\\n",
    "           .reset_index()\\\n",
    "           .sort_values(by=['specie_count','mean_diameter'], ascending=False)\n",
    "    return df_macro"
   ]
  },
  {
   "cell_type": "markdown",
   "id": "8ba3d8d7-0e80-42a3-ba9b-f9dda11123e4",
   "metadata": {},
   "source": [
    "#### ⬇️ Function to select subset of dataset\n"
   ]
  },
  {
   "cell_type": "code",
   "execution_count": null,
   "id": "49da1844-6fef-403f-888e-0b44904bfe69",
   "metadata": {},
   "outputs": [],
   "source": [
    "def select_n_specie(count, data_trees):\n",
    "    if count > 0:\n",
    "        df_macro = process_raw(data_trees)\n",
    "        specie_name_list = df_macro[:int(count)].SPECIES.to_list()\n",
    "        df_raw_subset = data_trees.query('SPECIES in @specie_name_list')\n",
    "        df_processed_subset = process_raw(df_raw_subset)\n",
    "    else:\n",
    "        print(\"Enter value greater than 0\")\n",
    "\n",
    "    return df_raw_subset, df_processed_subset"
   ]
  },
  {
   "cell_type": "markdown",
   "id": "982ccba0-559f-41f5-89d5-f4e73214eb25",
   "metadata": {},
   "source": [
    "#### ⬇️ Usage of the function "
   ]
  },
  {
   "cell_type": "code",
   "execution_count": null,
   "id": "d2dc3233-287b-4988-a970-71ff0fbbd454",
   "metadata": {},
   "outputs": [],
   "source": [
    "a,b = select_n_specie(3, data_trees)"
   ]
  },
  {
   "cell_type": "markdown",
   "id": "e52cf2dd-26a9-4070-99de-2ef96318ba66",
   "metadata": {},
   "source": [
    "## 📊 Insights"
   ]
  },
  {
   "cell_type": "markdown",
   "id": "759e28b5-c5c5-4ebc-a56d-f461bfccf8b8",
   "metadata": {},
   "source": [
    "### 🌱  Violin plot, specie overview based on diameter distribution\n",
    "\n",
    "**About violin plot**\n",
    "\n",
    " A violin plot depicts distributions of numeric data for one or more groups using density curves.  \n",
    " The width of each curve corresponds with the approximate frequency of data points in each region.   \n",
    " Densities are frequently accompanied by an overlaid chart type, such as box plot, to provide additional information."
   ]
  },
  {
   "cell_type": "code",
   "execution_count": null,
   "id": "49be7dbf-c8aa-4859-a414-6b74b035ecb7",
   "metadata": {},
   "outputs": [],
   "source": [
    "key_dimensions   = [('DIAMETER', 'Diameter (inches)')]\n",
    "value_dimensions = [('SPECIES', 'Specie name')]\n",
    "\n",
    "\n",
    "count_widget = pn.widgets.IntSlider(name = 'Specie count', value = 7, start = 1, end = 15)\n",
    "hover = HoverTool(tooltips=[('DIAMETER','$y')])\n",
    "\n",
    "@pn.depends(count_widget.param.value)\n",
    "def plotting_specie(count_widget):\n",
    "    df_top_10_raw,df_top_10_processed = select_n_specie(count_widget, data_trees)\n",
    "    fig = hv.Violin(df_top_10_raw, value_dimensions, key_dimensions).opts(xrotation=45, width=800, height=400, \n",
    "                                                                          violin_fill_color=dim('SPECIES').str(), \n",
    "                                                                          cmap='Set1', tools=[hover])\n",
    "    return fig\n",
    "\n",
    "widgets = pn.WidgetBox(count_widget)\n",
    "pn.Column(widgets, plotting_specie)"
   ]
  },
  {
   "cell_type": "markdown",
   "id": "5ded4dc3-ae11-4a71-9ebf-8b4636343ca2",
   "metadata": {},
   "source": [
    "### Insights\n",
    "\n",
    "From the max width of the violin plot we can infer the respective concentration of diameter value, for example *Pecan* has maximum concentration (mean) of diameter at 18.4 inch"
   ]
  },
  {
   "cell_type": "markdown",
   "id": "7b1fbe76-5a6f-4ccc-9528-f1fd7d91c361",
   "metadata": {},
   "source": [
    "### 📖 Distribution plot based mean diameter and abundance [Top 10 specie]"
   ]
  },
  {
   "cell_type": "code",
   "execution_count": null,
   "id": "53263519-df02-4a46-8409-a1e40a576b30",
   "metadata": {},
   "outputs": [],
   "source": [
    "value_dimensions   = [('mean_diameter', 'Mean diameter (measure unit=inches)'), ('specie_count', 'Specie Count')]\n",
    "key_dimensions = [('SPECIES', 'SPECIES')]\n",
    "df_top_10_raw,df_top_10_processed = select_n_specie(10, data_trees)\n",
    "macro = hv.Table(df_top_10_processed, key_dimensions, value_dimensions)\n",
    "\n",
    "plot_each_specie = macro.to.table('specie_count', 'Mean diameter (measure unit=inches)').opts(height=50, width=400)\n",
    "hover = HoverTool(tooltips=[('DIAMETER','$x')])\n",
    "plot_each_specie + hv.Distribution(\n",
    "    data=df_top_10_raw,\n",
    "    kdims=['DIAMETER'],\n",
    "    vdims=['SPECIES'],\n",
    ").groupby(\n",
    "    'SPECIES'\n",
    ").opts(tools=[hover])"
   ]
  },
  {
   "cell_type": "markdown",
   "id": "1a16bb50-bda7-4b16-8250-c2198ff4feaa",
   "metadata": {},
   "source": [
    "### Insight\n",
    "- The distributions are heavily right skewed (Positive skewed) normal distributions.\n",
    "- We can infer from above distributions that diameter *Mean  >  Median  >  Mode*"
   ]
  },
  {
   "cell_type": "markdown",
   "id": "a8f82864-14bf-437f-a6b2-0e98e5709b61",
   "metadata": {},
   "source": [
    "### Count of trees among different species based on diamter values"
   ]
  },
  {
   "cell_type": "code",
   "execution_count": null,
   "id": "2814732e-f0a5-4cd6-8487-41b925b61d8b",
   "metadata": {},
   "outputs": [],
   "source": [
    "raw_df_trees_subset, processed_df_trees_subset= select_n_specie(10, data_trees)\n",
    "raw_df_trees_subset['rounded_diameter'] = raw_df_trees_subset['DIAMETER'].round()\n",
    "\n",
    "raw_df_trees_subset = raw_df_trees_subset.drop(['GEOMETRY', 'LATITUDE', 'LONGTITUDE', 'New Georeferenced Column'], axis=1)\n",
    "plotable_df_subset = raw_df_trees_subset.loc[raw_df_trees_subset['rounded_diameter']<=40].groupby(\n",
    "    ['SPECIES']).value_counts(\n",
    "    'rounded_diameter').reset_index().rename(\n",
    "    columns={0: 'count_diameter'})"
   ]
  },
  {
   "cell_type": "code",
   "execution_count": null,
   "id": "84d2ab52-2956-42fc-a24a-aef7f07ee1d3",
   "metadata": {},
   "outputs": [],
   "source": [
    "plot = hv.Bars(plotable_df_subset, kdims=['rounded_diameter', 'SPECIES'], vdims=['count_diameter']).aggregate(function=np.sum).sort()\n",
    "hover = HoverTool(tooltips=[('Specie name','@SPECIES'), \n",
    "                            ('Diamter value','@rounded_diameter'), \n",
    "                            ('Total number of trees', '@count_diameter')])\n",
    "plot.opts(width=1200, \n",
    "          height=525,\n",
    "          stacked=True,\n",
    "          tools=[hover]).relabel(\"Diversity of diameter values among top 10 species\")"
   ]
  },
  {
   "cell_type": "markdown",
   "id": "72616a39-7921-4e30-b336-96bdb89455ed",
   "metadata": {},
   "source": [
    "### Insight\n",
    "- Diamter ranges 8-11 are most abundant among the species.\n",
    "- Diameter zero is common across all the species, indicates trees been uprooted/deforestration"
   ]
  },
  {
   "cell_type": "markdown",
   "id": "cd3056b5-1582-4af9-8fec-8683059ed28b",
   "metadata": {},
   "source": [
    "### 🧭 Plot for top 10 specie location: using holoviews, datashader and bokeh as backend"
   ]
  },
  {
   "cell_type": "code",
   "execution_count": null,
   "id": "71c35cda-1e14-4ebb-ba5d-e0663d4ab1dc",
   "metadata": {},
   "outputs": [],
   "source": [
    "import holoviews as hv\n",
    "import datashader as ds\n",
    "import colorcet as cc\n",
    "import holoviews.operation.datashader as hd\n",
    "from datashader.utils import lnglat_to_meters as webm\n",
    "from datashader import transfer_functions as tf\n",
    "from holoviews.element.tiles import StamenTerrainRetina, StamenTonerRetina\n",
    "\n",
    "Austin = ((-97.91,  -97.52), (30.17, 30.37))\n",
    "plot_width  = int(950)\n",
    "plot_height = int(plot_width//1.2)\n",
    "tile_selection = StamenTerrainRetina()\n",
    "\n",
    "raw_df_trees_geo, processed_df_trees_geo = select_n_specie(10, data_trees)\n",
    "raw_df_trees_geo = raw_df_trees_geo[['LONGTITUDE','LATITUDE', 'SPECIES', 'DIAMETER']]\n",
    "raw_df_trees_geo.loc[:, 'lon'], raw_df_trees_geo.loc[:, 'lat'] = webm(raw_df_trees_geo['LONGTITUDE'],raw_df_trees_geo['LATITUDE'])\n",
    "raw_df_trees_geo[\"SPECIES\"]=raw_df_trees_geo[\"SPECIES\"].astype(\"category\")\n"
   ]
  },
  {
   "cell_type": "code",
   "execution_count": null,
   "id": "6301ac3d-9cb3-4208-89d1-ca2998a0ccbd",
   "metadata": {},
   "outputs": [],
   "source": [
    "cats = list(raw_df_trees_geo.SPECIES.unique())\n",
    "colors    = cc.glasbey_bw_minc_20_maxl_70\n",
    "color_key = {cat: tuple(int(e*255.) for e in colors[i]) for i, cat in enumerate(cats)}\n",
    "legend    = hv.NdOverlay({k: hv.Points([0,0], label=str(k)).opts(\n",
    "                                         color=cc.rgb_to_hex(*v), size=0, apply_ranges=False) \n",
    "                          for k, v in color_key.items()}, 'SPECIES')\n",
    "\n",
    "\n",
    "x_range_w ,y_range_w=webm(*Austin)    \n",
    "tiles = tile_selection.redim.range(x=tuple(x_range_w), y=tuple(y_range_w))\n",
    "shaded = hd.datashade(hv.Points(raw_df_trees_geo, ['lon', 'lat'], \n",
    "                                x_range=x_range_w, y_range=y_range_w, \n",
    "                                plot_height=plot_height, plot_width=plot_width), \n",
    "                                color_key=color_key,\n",
    "                                aggregator=ds.count_cat('SPECIES'))\n",
    "ropts = dict(tools=['hover'])\n",
    "hover_data = shaded.opts(**ropts)\n",
    "\n",
    "tiles * hd.dynspread(shaded, threshold=1, max_px=5, shape='circle').opts(xaxis=None, yaxis=None, width=900, height=500) * (hover_data) * legend\n",
    "    "
   ]
  },
  {
   "cell_type": "code",
   "execution_count": null,
   "id": "3f490e6e-be4f-45ec-841e-685bdc989eb7",
   "metadata": {},
   "outputs": [],
   "source": []
  }
 ],
 "metadata": {
  "kernelspec": {
   "display_name": "sbanik@quansight.com-austin-trees",
   "language": "python",
   "name": "conda-env-sbanik_quansight.com-austin-trees-py"
  },
  "language_info": {
   "codemirror_mode": {
    "name": "ipython",
    "version": 3
   },
   "file_extension": ".py",
   "mimetype": "text/x-python",
   "name": "python",
   "nbconvert_exporter": "python",
   "pygments_lexer": "ipython3",
   "version": "3.8.13"
  }
 },
 "nbformat": 4,
 "nbformat_minor": 5
}
