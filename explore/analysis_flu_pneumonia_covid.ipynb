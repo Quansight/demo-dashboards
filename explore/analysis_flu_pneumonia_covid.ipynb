{
 "cells": [
  {
   "cell_type": "code",
   "execution_count": null,
   "id": "fe6aa901-4406-4dda-9e6a-1fbe9c549853",
   "metadata": {},
   "outputs": [],
   "source": [
    "import sys\n",
    "sys.path.insert(1, '/home/sbanik@quansight.com/demo-dashboards')\n",
    "\n",
    "from intake_utils import (\n",
    "    catalog_init,\n",
    "    list_catalog,\n",
    "    view_catalog)"
   ]
  },
  {
   "cell_type": "code",
   "execution_count": null,
   "id": "83530e95-36ac-4c72-91df-af7e031fb2bf",
   "metadata": {},
   "outputs": [],
   "source": [
    "catalog = catalog_init()"
   ]
  },
  {
   "cell_type": "code",
   "execution_count": null,
   "id": "331f85f6-2509-484c-b23d-b0666e99af6b",
   "metadata": {},
   "outputs": [],
   "source": [
    "list(catalog)"
   ]
  },
  {
   "cell_type": "code",
   "execution_count": null,
   "id": "03fba94c-fc0c-4105-a76e-a80774318233",
   "metadata": {},
   "outputs": [],
   "source": [
    "data = catalog.flu_pneumonia_covid.read()"
   ]
  },
  {
   "cell_type": "markdown",
   "id": "cb9fa77a-f5f7-4912-8b5a-20179741e756",
   "metadata": {},
   "source": [
    "### Converting json to pandas dataframe"
   ]
  },
  {
   "cell_type": "code",
   "execution_count": null,
   "id": "490a18ce-b797-4ae3-80ad-4bb2b1eff890",
   "metadata": {},
   "outputs": [],
   "source": [
    "import pandas as pd\n",
    "df = pd.json_normalize(data)"
   ]
  },
  {
   "cell_type": "code",
   "execution_count": null,
   "id": "593a4723-6f1c-4dad-bcb0-df9eaade6bc0",
   "metadata": {},
   "outputs": [],
   "source": [
    "df.head()"
   ]
  },
  {
   "cell_type": "markdown",
   "id": "9a27a2e7-00ce-48fe-b8ba-76207eef0c55",
   "metadata": {},
   "source": [
    "### Checking datatypes"
   ]
  },
  {
   "cell_type": "code",
   "execution_count": null,
   "id": "546a1b4f-2097-411e-9850-88d0256f8e3c",
   "metadata": {},
   "outputs": [],
   "source": [
    "df.dtypes"
   ]
  },
  {
   "cell_type": "code",
   "execution_count": null,
   "id": "05009d55-710e-48eb-88d4-5b9e0a832655",
   "metadata": {},
   "outputs": [],
   "source": [
    "df.info()"
   ]
  },
  {
   "cell_type": "markdown",
   "id": "f6e1c80f-4c48-45c1-9a7c-792745f522f6",
   "metadata": {},
   "source": [
    "### Updating datatypes"
   ]
  },
  {
   "cell_type": "code",
   "execution_count": null,
   "id": "9586e03c-20b7-4d99-ba23-39cc734b27cf",
   "metadata": {},
   "outputs": [],
   "source": [
    "df = df.astype({'data_as_of': 'datetime64[ns]', \n",
    "                'start_week': 'datetime64[ns]',\n",
    "                'end_week': 'datetime64[ns]',\n",
    "                'mmwryear': 'Int64',\n",
    "                'mmwrweek': 'Int64',\n",
    "                'week_ending_date': 'datetime64[ns]',\n",
    "                'covid_19_deaths': 'Int64',\n",
    "                'total_deaths': 'Int64',\n",
    "                'pneumonia_deaths': 'Int64',\n",
    "                'influenza_deaths': 'Int64',\n",
    "                'pneumonia_or_influenza': 'Int64',\n",
    "                'pneumonia_influenza_or_covid': 'Int64'\n",
    "               })"
   ]
  },
  {
   "cell_type": "code",
   "execution_count": null,
   "id": "f7e3d4e6-9f10-49a2-8387-64b65bb4d876",
   "metadata": {},
   "outputs": [],
   "source": [
    "df.dtypes"
   ]
  },
  {
   "cell_type": "code",
   "execution_count": null,
   "id": "875b77e6-d805-427b-a5ce-e2723cd8ce53",
   "metadata": {},
   "outputs": [],
   "source": [
    "df.describe()"
   ]
  },
  {
   "cell_type": "code",
   "execution_count": null,
   "id": "044b04f2-203a-4bf4-a625-bb1b7f571746",
   "metadata": {},
   "outputs": [],
   "source": [
    "import numpy as np\n",
    "\n",
    "df = df.replace(np.nan, 0)"
   ]
  },
  {
   "cell_type": "code",
   "execution_count": null,
   "id": "1f8e9487-5c3b-4adf-a7ab-9e45e31a04c3",
   "metadata": {},
   "outputs": [],
   "source": [
    "sorted_df = df.sort_values(by=['total_deaths'], ascending=False)\n"
   ]
  },
  {
   "cell_type": "code",
   "execution_count": null,
   "id": "bb578bbe-35a7-416c-aa8f-2484a8e2bbbb",
   "metadata": {},
   "outputs": [],
   "source": [
    "sorted_df.head(10)"
   ]
  },
  {
   "cell_type": "code",
   "execution_count": null,
   "id": "0913b73f-5669-43ef-9ae8-df2cc9b9b9d0",
   "metadata": {},
   "outputs": [],
   "source": [
    "group_df = df.groupby(['age_group']).total_deaths.sum().reset_index()"
   ]
  },
  {
   "cell_type": "code",
   "execution_count": null,
   "id": "663f7fd3-eb61-466d-b758-6cdf6411c63a",
   "metadata": {},
   "outputs": [],
   "source": [
    "group_df['percentage_increase'] = group_df.total_deaths.pct_change().replace(np.nan, 0)"
   ]
  },
  {
   "cell_type": "code",
   "execution_count": null,
   "id": "989ff1d9-310b-4c07-97aa-4805085fae72",
   "metadata": {},
   "outputs": [],
   "source": [
    "group_df"
   ]
  },
  {
   "cell_type": "code",
   "execution_count": null,
   "id": "415c86b7-3afd-4e7e-bea7-d1db94263562",
   "metadata": {},
   "outputs": [],
   "source": [
    "import numpy as np\n",
    "import matplotlib.pyplot as plt\n",
    "import os\n",
    "import hvplot.pandas\n",
    "import holoviews as hv\n",
    "from holoviews import opts\n",
    "hv.extension('bokeh', 'vega')"
   ]
  },
  {
   "cell_type": "markdown",
   "id": "70d1da03-152b-4e76-8e5d-0482ef3f21a9",
   "metadata": {},
   "source": [
    "### Total deaths based on age-group"
   ]
  },
  {
   "cell_type": "code",
   "execution_count": null,
   "id": "d7267ec0-fe9d-46cd-8fce-60b353ad94aa",
   "metadata": {},
   "outputs": [],
   "source": [
    "bar_chart = hv.Bars(pd.DataFrame(group_df, columns=['age_group','total_deaths']), label=\"Total deaths based on age-group\") \n",
    "bar_chart.opts(xrotation=45, width=600, height=400) "
   ]
  },
  {
   "cell_type": "code",
   "execution_count": null,
   "id": "378e3b4d-5e4c-4a6f-8e2a-08297b5ea7b1",
   "metadata": {},
   "outputs": [],
   "source": [
    "curve= hv.Curve((group_df.age_group, group_df.percentage_increase),\"Age-group\",\"percentage increase\", label=('Percentage increase in death'))\n",
    "curve.opts(width=600, height=400) "
   ]
  },
  {
   "cell_type": "markdown",
   "id": "e873ba4b-2249-4489-b1e1-93ad10cbc32c",
   "metadata": {},
   "source": [
    "#### Insight\n",
    "- With increase in age-group, the overall death count increased substantially \n",
    "- maximum increase could be observed between age group *0-17* to *18-64*"
   ]
  },
  {
   "cell_type": "markdown",
   "id": "c61cdd17-ebf4-4605-ba8a-795c4a9c8da3",
   "metadata": {},
   "source": [
    "#### Based on jurisdiction"
   ]
  },
  {
   "cell_type": "code",
   "execution_count": null,
   "id": "5823327b-3e4f-4987-840c-7505d89ece3d",
   "metadata": {},
   "outputs": [],
   "source": [
    "import altair as alt"
   ]
  },
  {
   "cell_type": "code",
   "execution_count": null,
   "id": "2b168d19-8a00-4ee1-98fc-e5e00af7a7f4",
   "metadata": {},
   "outputs": [],
   "source": [
    "chart = alt.Chart(sorted_df).mark_circle(size=90).encode(\n",
    "    x='covid_19_deaths',\n",
    "    y='influenza_deaths',\n",
    "    color='jurisdiction',\n",
    "    tooltip=['total_deaths', 'jurisdiction', 'covid_19_deaths']\n",
    ").interactive()\n",
    "\n",
    "altair_pane = pn.panel(chart)\n",
    "altair_pane"
   ]
  },
  {
   "cell_type": "markdown",
   "id": "dfbc9f0c-e5e2-4b05-a455-8cda01d135b6",
   "metadata": {
    "tags": []
   },
   "source": [
    "#### Insight\n",
    " - United states has the highest deseased count due to influenza and covid\n",
    " - Deaths due to influenza and covid shows a certain correlation based on the count \n",
    " - Alaska has zero deseased count "
   ]
  },
  {
   "cell_type": "code",
   "execution_count": null,
   "id": "e5bce402-b9de-4f3b-96e7-368e48d0d66a",
   "metadata": {},
   "outputs": [],
   "source": []
  }
 ],
 "metadata": {
  "kernelspec": {
   "display_name": "filesystem-qhub-catalog",
   "language": "python",
   "name": "conda-env-filesystem-qhub-catalog-py"
  },
  "language_info": {
   "codemirror_mode": {
    "name": "ipython",
    "version": 3
   },
   "file_extension": ".py",
   "mimetype": "text/x-python",
   "name": "python",
   "nbconvert_exporter": "python",
   "pygments_lexer": "ipython3",
   "version": "3.8.13"
  }
 },
 "nbformat": 4,
 "nbformat_minor": 5
}
