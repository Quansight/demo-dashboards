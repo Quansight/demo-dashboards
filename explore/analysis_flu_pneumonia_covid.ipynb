{
 "cells": [
  {
   "cell_type": "markdown",
   "id": "0acae6c4-1eb6-4957-a713-aec053563e56",
   "metadata": {},
   "source": [
    "### ✍️ Required libraries & settings"
   ]
  },
  {
   "cell_type": "code",
   "execution_count": null,
   "id": "fe6aa901-4406-4dda-9e6a-1fbe9c549853",
   "metadata": {},
   "outputs": [],
   "source": [
    "import sys\n",
    "sys.path.insert(1, '/home/sbanik@quansight.com/demo-dashboards')\n",
    "\n",
    "from intake_utils import (\n",
    "    catalog_init,\n",
    "    list_catalog,\n",
    "    view_catalog)\n",
    "\n",
    "import pandas as pd\n",
    "import numpy as np\n",
    "import panel as pn\n",
    "import matplotlib.pyplot as plt\n",
    "import hvplot.pandas\n",
    "import holoviews as hv\n",
    "from holoviews import opts,dim\n",
    "hv.extension('bokeh')\n",
    "from bokeh.models import HoverTool"
   ]
  },
  {
   "cell_type": "markdown",
   "id": "12b64f90-7eec-4f43-9113-ee80a810758f",
   "metadata": {},
   "source": [
    "### 👓 About dataset\n",
    "\n",
    "- Title: Provisional Death Counts for Influenza, Pneumonia, and COVID-19\n",
    "- Brief description: Deaths counts for influenza, pneumonia, and coronavirus disease 2019 (COVID-19) reported to NCHS by week ending date, by state and HHS region, and age group.\n",
    "\n",
    "#### 🗒 Columns in this Dataset:\n",
    "\n",
    "    - data_as_of: Date when the analysis is carried out\n",
    "    - start_week: First date of data period\n",
    "    - end_week: Last date of data period\n",
    "    - mmwrweek: Month wrt to year on the scale of (1-53) \n",
    "        more details - https://ndc.services.cdc.gov/wp-content/uploads/MMWR_Week_overview.pdf\n",
    "    - mmwryear: MMWR year\n",
    "    - week_ending_date: Week-ending date for the week of reporting\n",
    "    - group: Group info\n",
    "    - indicator: Indicator info\n",
    "    - jurisdiction: Jurisdiction of Residence\n",
    "    - age_group: Age bucket\n",
    "    - covid_19_deaths: Deaths involving COVID-19 (ICD-code U07.1)\n",
    "    - total_deaths: Deaths from all causes\n",
    "    - pneumonia_deaths: Pneumonia Deaths (ICD-10 codes J12.0-J18.9)\n",
    "    - influenza_deaths: Influenza Deaths (ICD-10 codes J09-J11)\n",
    "    - pneumonia_or_influenza: Deaths with Pneumonia or Influenza \n",
    "    - pneumonia_influenza_or_covid: Pneumonia, Influenza, or COVID-19 Deaths (ICD-10 codes J12.0-J18.9, J09-J11, U07.1)\n",
    "    - footnote: Info/disclaimer (if any)\n"
   ]
  },
  {
   "cell_type": "markdown",
   "id": "4b742e4d-a374-4713-be4c-871a0ab1f1db",
   "metadata": {},
   "source": [
    "### 📖 Reading data via `intake` catalog"
   ]
  },
  {
   "cell_type": "code",
   "execution_count": null,
   "id": "83530e95-36ac-4c72-91df-af7e031fb2bf",
   "metadata": {},
   "outputs": [],
   "source": [
    "catalog = catalog_init()"
   ]
  },
  {
   "cell_type": "code",
   "execution_count": null,
   "id": "331f85f6-2509-484c-b23d-b0666e99af6b",
   "metadata": {},
   "outputs": [],
   "source": [
    "list(catalog)"
   ]
  },
  {
   "cell_type": "code",
   "execution_count": null,
   "id": "03fba94c-fc0c-4105-a76e-a80774318233",
   "metadata": {},
   "outputs": [],
   "source": [
    "data = catalog.flu_pneumonia_covid.read()"
   ]
  },
  {
   "cell_type": "markdown",
   "id": "cb9fa77a-f5f7-4912-8b5a-20179741e756",
   "metadata": {},
   "source": [
    "### 👩🏽‍💻 Converting `json data` to pandas dataframe"
   ]
  },
  {
   "cell_type": "code",
   "execution_count": null,
   "id": "490a18ce-b797-4ae3-80ad-4bb2b1eff890",
   "metadata": {},
   "outputs": [],
   "source": [
    "df = pd.json_normalize(data)"
   ]
  },
  {
   "cell_type": "code",
   "execution_count": null,
   "id": "593a4723-6f1c-4dad-bcb0-df9eaade6bc0",
   "metadata": {},
   "outputs": [],
   "source": [
    "df.head(2)"
   ]
  },
  {
   "cell_type": "markdown",
   "id": "9a27a2e7-00ce-48fe-b8ba-76207eef0c55",
   "metadata": {},
   "source": [
    "### 🔍 Exploring datatypes & shape"
   ]
  },
  {
   "cell_type": "code",
   "execution_count": null,
   "id": "df7f09d2-ac43-432a-b48f-71c914c7a0f5",
   "metadata": {},
   "outputs": [],
   "source": [
    "df.shape"
   ]
  },
  {
   "cell_type": "code",
   "execution_count": null,
   "id": "05009d55-710e-48eb-88d4-5b9e0a832655",
   "metadata": {},
   "outputs": [],
   "source": [
    "df.info()"
   ]
  },
  {
   "cell_type": "markdown",
   "id": "f6e1c80f-4c48-45c1-9a7c-792745f522f6",
   "metadata": {},
   "source": [
    "### 👩🏽‍💻 Updating datatypes for required columns"
   ]
  },
  {
   "cell_type": "code",
   "execution_count": null,
   "id": "9586e03c-20b7-4d99-ba23-39cc734b27cf",
   "metadata": {},
   "outputs": [],
   "source": [
    "df = df.astype({'data_as_of': 'datetime64[ns]', \n",
    "                'start_week': 'datetime64[ns]',\n",
    "                'end_week': 'datetime64[ns]',\n",
    "                'mmwryear': 'Int64',\n",
    "                'mmwrweek': 'Int64',\n",
    "                'week_ending_date': 'datetime64[ns]',\n",
    "                'covid_19_deaths': 'Int64',\n",
    "                'total_deaths': 'Int64',\n",
    "                'pneumonia_deaths': 'Int64',\n",
    "                'influenza_deaths': 'Int64',\n",
    "                'pneumonia_or_influenza': 'Int64',\n",
    "                'pneumonia_influenza_or_covid': 'Int64'\n",
    "               })"
   ]
  },
  {
   "cell_type": "code",
   "execution_count": null,
   "id": "f7e3d4e6-9f10-49a2-8387-64b65bb4d876",
   "metadata": {},
   "outputs": [],
   "source": [
    "df.dtypes"
   ]
  },
  {
   "cell_type": "markdown",
   "id": "e69b0091-ab96-4317-a448-877375a3ee76",
   "metadata": {},
   "source": [
    "### 🛠 Exploring basic statistical measure, like percentile, mean and std of the numerical values"
   ]
  },
  {
   "cell_type": "code",
   "execution_count": null,
   "id": "875b77e6-d805-427b-a5ce-e2723cd8ce53",
   "metadata": {},
   "outputs": [],
   "source": [
    "df.describe()"
   ]
  },
  {
   "cell_type": "markdown",
   "id": "728b9fb9-4c83-4275-a3a5-6ebfd7d2abe1",
   "metadata": {},
   "source": [
    "### 👩🏽‍🔧 Replacing `NaN` with numerical value"
   ]
  },
  {
   "cell_type": "code",
   "execution_count": null,
   "id": "044b04f2-203a-4bf4-a625-bb1b7f571746",
   "metadata": {},
   "outputs": [],
   "source": [
    "df = df.replace(np.nan, 0)"
   ]
  },
  {
   "cell_type": "markdown",
   "id": "267db0e8-b877-425a-896f-ef20d2ee78fb",
   "metadata": {},
   "source": [
    "### Data processing for visualisation"
   ]
  },
  {
   "cell_type": "code",
   "execution_count": null,
   "id": "0913b73f-5669-43ef-9ae8-df2cc9b9b9d0",
   "metadata": {},
   "outputs": [],
   "source": [
    "group_df = df.loc[df['age_group']!=\"All Ages\"].groupby(['age_group']).total_deaths.sum().reset_index()"
   ]
  },
  {
   "cell_type": "code",
   "execution_count": null,
   "id": "663f7fd3-eb61-466d-b758-6cdf6411c63a",
   "metadata": {},
   "outputs": [],
   "source": [
    "group_df['percentage_increase'] = group_df.total_deaths.pct_change().replace(np.nan, 0)"
   ]
  },
  {
   "cell_type": "code",
   "execution_count": null,
   "id": "989ff1d9-310b-4c07-97aa-4805085fae72",
   "metadata": {},
   "outputs": [],
   "source": [
    "group_df"
   ]
  },
  {
   "cell_type": "markdown",
   "id": "f56a2357-e8c4-47e7-a33e-0c2acdfb5d4b",
   "metadata": {},
   "source": [
    "### ✨ Insights using Holoviews"
   ]
  },
  {
   "cell_type": "markdown",
   "id": "70d1da03-152b-4e76-8e5d-0482ef3f21a9",
   "metadata": {},
   "source": [
    "#### Deceased based on age-group"
   ]
  },
  {
   "cell_type": "code",
   "execution_count": null,
   "id": "d7267ec0-fe9d-46cd-8fce-60b353ad94aa",
   "metadata": {},
   "outputs": [],
   "source": [
    "hover = HoverTool(tooltips=[(\"Deceased\", \"$y\"),\n",
    "                            (\"Age Group\", \"@age_group\")])\n",
    "bar_chart_age_group = hv.Bars(pd.DataFrame(group_df, columns=['age_group','total_deaths']), label=\"Total deceased based on age-group\") \n",
    "bar_chart_age_group.opts(xrotation=45, width=600, height=400, tools=[hover]) \n",
    "\n",
    "curve_percentage_increase= hv.Table((group_df.age_group, group_df.percentage_increase),\"Age-group\",\"percentage increase\", label=('Percentage increase in deceased count'))\n",
    "curve_percentage_increase.opts(xrotation=45, width=600, height=400) \n",
    "\n",
    "layout = (bar_chart_age_group + curve_percentage_increase).cols(2)\n",
    "layout.opts(opts.Layout(shared_axes=False, merge_tools=True))"
   ]
  },
  {
   "cell_type": "markdown",
   "id": "e873ba4b-2249-4489-b1e1-93ad10cbc32c",
   "metadata": {},
   "source": [
    "#### Insight\n",
    "- With increase in age-group, the overall death count increased substantially \n",
    "- Highest increment in deceased cases could be observed between age group *0-17* to *18-64*"
   ]
  },
  {
   "cell_type": "markdown",
   "id": "c61cdd17-ebf4-4605-ba8a-795c4a9c8da3",
   "metadata": {},
   "source": [
    "#### Based on jurisdiction & age group & date range"
   ]
  },
  {
   "cell_type": "code",
   "execution_count": null,
   "id": "2b168d19-8a00-4ee1-98fc-e5e00af7a7f4",
   "metadata": {},
   "outputs": [],
   "source": [
    "key_dimensions   = [('week_ending_date', 'Date'), ('jurisdiction', 'Jurisdiction'), ('age_group', 'Age Group')]\n",
    "value_dimensions = [('covid_19_deaths', 'Deseased due to COVID-19'), ('total_deaths', 'Total deseased')]\n",
    "macro = hv.Table(df, key_dimensions, value_dimensions)\n",
    "\n",
    "plot = macro.to.table('Age Group', ['Total deseased', 'Deseased due to COVID-19']).opts(height=150)\n",
    "plot.overlay('Jurisdiction')\n",
    "plot"
   ]
  },
  {
   "cell_type": "markdown",
   "id": "f91ca08d-2ca0-4f21-a539-f820f83130d5",
   "metadata": {},
   "source": [
    "#### Overview plot based on deceased (Average) and jurisdiction in 2020"
   ]
  },
  {
   "cell_type": "code",
   "execution_count": null,
   "id": "f61d2377-4c2b-4d6b-a41b-914df48b2428",
   "metadata": {},
   "outputs": [],
   "source": [
    "avg_us = df.loc[df[\"jurisdiction\"]==\"United States\", \"total_deaths\"].aggregate(function=np.mean)\n",
    "df_sorted_jurisdiction = df.loc[df[\"jurisdiction\"]!=\"United States\"].sort_values(by=['total_deaths'], ascending=False)\n",
    "\n",
    "jurisdiction_plot = hv.Bars((df_sorted_jurisdiction.jurisdiction, df_sorted_jurisdiction.total_deaths), \"Jurisdiction\", \"Deseased Count (Average)\", label=\"Deseased stats based on jurisdiction \\nUnited states avg= %s\"% np.round(avg_us.function)).aggregate(function=np.mean)\n",
    "hover = HoverTool(tooltips=[(\"Deceased\", \"$y\"),\n",
    "                            (\"Jurisdiction\", \"@Jurisdiction\")])\n",
    "\n",
    "jurisdiction_plot.opts(xrotation=45, width=1200, height=400, tools=[hover])"
   ]
  },
  {
   "cell_type": "markdown",
   "id": "dfbc9f0c-e5e2-4b05-a455-8cda01d135b6",
   "metadata": {
    "tags": []
   },
   "source": [
    "#### Insight\n",
    " - HHS Region 4 has the highest (avg) deseased count in United states\n",
    " - District of Columbia has the lowest (avg) deseased count in United states"
   ]
  },
  {
   "cell_type": "markdown",
   "id": "ca447a5f-270f-4361-8ce7-ada540c2232a",
   "metadata": {},
   "source": [
    "#### Disease stats (covid_19, influenza, pneumonia)"
   ]
  },
  {
   "cell_type": "code",
   "execution_count": null,
   "id": "55f8add5-7902-4594-ad33-51acd2ec7285",
   "metadata": {
    "tags": []
   },
   "outputs": [],
   "source": [
    "week_group_df = df.groupby(['week_ending_date']).sum().reset_index()\n",
    "group = \"weekly deceased stats\"\n",
    "\n",
    "total = hv.Bars((week_group_df.week_ending_date, week_group_df.total_deaths),\"Date\",\"Deceased count\",label=\"Total\", group=group)\n",
    "covid_19 = hv.Bars((week_group_df.week_ending_date, week_group_df.covid_19_deaths),\"Date\",\"Deceased count\",label=\"COVID-19\", group=group)\n",
    "pneumonia = hv.Bars((week_group_df.week_ending_date, week_group_df.pneumonia_deaths), \"Date\", \"Deceased count\",label=\"Pneumonia\", group=group)\n",
    "influenza = hv.Bars((week_group_df.week_ending_date, week_group_df.influenza_deaths),\"Date\",\"Deceased count\", label=\"Influenza\", group=group)\n",
    "hover = HoverTool(tooltips=[(\"y\", \"$y\"),\n",
    "                            (\"Date\", \"@Date\")])\n",
    "\n",
    "covid_19.opts(width=400, height=400, xrotation=45, tools = [hover]) \n",
    "pneumonia.opts(width=400, height=400, xrotation=45, tools = [hover]) \n",
    "influenza.opts(width=400, height=400, xrotation=45, tools = [hover]) \n",
    "total.opts(width=400, height=400, xrotation=45, tools = [hover]) \n",
    "\n",
    "layout = (total + covid_19 + influenza + pneumonia).cols(2)\n",
    "layout.opts(opts.Layout(shared_axes=False, merge_tools=True))"
   ]
  },
  {
   "cell_type": "markdown",
   "id": "bfc566ac-9ce4-43f4-8733-23a73e6943ad",
   "metadata": {},
   "source": [
    "#### Insight\n",
    "- Steady increase in covid19 cases could be observed"
   ]
  },
  {
   "cell_type": "markdown",
   "id": "f9ac304e-238e-4270-bbc3-f74bd8bb2b2d",
   "metadata": {},
   "source": [
    "### ⬇️ Combined overview"
   ]
  },
  {
   "cell_type": "code",
   "execution_count": null,
   "id": "7e4bc020-1db2-4f4b-89a3-eda30421a9d4",
   "metadata": {
    "tags": []
   },
   "outputs": [],
   "source": [
    "import panel.widgets as pnw\n",
    "\n",
    "df = df.drop(['data_as_of','start_week','end_week',\n",
    "              'mmwryear', 'week_ending_date', 'group', \n",
    "              'indicator', 'footnote', 'mmwrweek', 'total_deaths'], axis=1, errors='ignore')\n",
    "\n",
    "columns = sorted(df.columns)\n",
    "discrete = [x for x in columns if df[x].dtype == object]\n",
    "continuous = [x for x in columns if x not in discrete]\n",
    "quantileable = [x for x in continuous if len(df[x].unique()) > 20]\n",
    "\n",
    "x = pnw.Select(name='X-Axis', value='covid_19_deaths', options=quantileable)\n",
    "y = pnw.Select(name='Y-Axis', value='covid_19_deaths', options=quantileable)\n",
    "size = pnw.Select(name='Size', options=quantileable)\n",
    "color = pnw.Select(name='Color', options=quantileable)\n",
    "\n",
    "@pn.depends(x.param.value, y.param.value, color.param.value, size.param.value) \n",
    "def create_figure(x, y, color, size):\n",
    "    opts = dict(cmap='rainbow', width=800, height=600, line_color='black')\n",
    "    if color != 'None':\n",
    "        opts['color'] = color \n",
    "    if size != 'None':\n",
    "        opts['size'] = hv.dim(size).norm()*50\n",
    "    return hv.Points(df, [x, y], label=\"%s vs %s\" % (x.title(), y.title())).opts(**opts)\n",
    "\n",
    "widgets = pn.WidgetBox(x, y, color, size, width=200)\n",
    "pn.Row(widgets, create_figure)"
   ]
  }
 ],
 "metadata": {
  "kernelspec": {
   "display_name": "filesystem-qhub-catalog",
   "language": "python",
   "name": "conda-env-filesystem-qhub-catalog-py"
  },
  "language_info": {
   "codemirror_mode": {
    "name": "ipython",
    "version": 3
   },
   "file_extension": ".py",
   "mimetype": "text/x-python",
   "name": "python",
   "nbconvert_exporter": "python",
   "pygments_lexer": "ipython3",
   "version": "3.8.13"
  }
 },
 "nbformat": 4,
 "nbformat_minor": 5
}
