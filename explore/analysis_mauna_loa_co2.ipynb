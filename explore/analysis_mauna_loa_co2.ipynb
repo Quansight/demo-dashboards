{
 "cells": [
  {
   "cell_type": "markdown",
   "id": "9ce83d86-a1a0-46ab-8022-5fbf2f7a574c",
   "metadata": {
    "tags": []
   },
   "source": [
    "### ✍️ Required libraries & settings"
   ]
  },
  {
   "cell_type": "code",
   "execution_count": null,
   "id": "abe5dc3a-b654-4a99-8a6f-779fe369d4ce",
   "metadata": {},
   "outputs": [],
   "source": [
    "import sys\n",
    "sys.path.insert(1, '/home/sbanik@quansight.com/demo-dashboards')\n",
    "\n",
    "import warnings\n",
    "warnings.filterwarnings('ignore')\n",
    "\n",
    "from intake_utils import (\n",
    "    catalog_init,\n",
    "    list_catalog,\n",
    "    view_catalog)\n",
    "\n",
    "import numpy as np\n",
    "import panel as pn\n",
    "import matplotlib.pyplot as plt\n",
    "import hvplot.pandas\n",
    "import holoviews as hv\n",
    "from holoviews import opts,dim\n",
    "from bokeh.models import HoverTool\n",
    "hv.extension('bokeh')"
   ]
  },
  {
   "cell_type": "markdown",
   "id": "f0515723-bf2f-4adf-af4f-46824a0efa4f",
   "metadata": {},
   "source": [
    "### 👓 About dataset\n",
    "\n",
    "- **Title :** Mauna Loa CO2 monthly (mean) data\n",
    "- **Brief description :** \n",
    "Observation taken at Mauna Loa Observatory, Hawaii. The carbon dioxide data on Mauna Loa constitute the longest record of direct measurements of CO2 in the atmosphere. They were started by C. David Keeling of the Scripps Institution of Oceanography in March of 1958 at a facility of the National Oceanic and Atmospheric Administration [Keeling, 1976]. NOAA started its own CO2 measurements in May of 1974, and they have run in parallel with those made by Scripps since then [Thoning, 1989].\n",
    "\n",
    "#### 🗒 Columns in this Dataset {[info source](https://datahub.io/core/co2-ppm#resource-co2-mm-mlo)}:\n",
    "- **year** : (YYYY) year of the calender when observation was recorder\n",
    "- **month** : (MM) calender month when observation was recorder\n",
    "- **decimal date** : based in decimal calender system (A decimal calendar is a calendar which includes units of time based on the decimal system)\n",
    "- **average** : The monthly mean CO2 mole fraction determined from daily averages. If there are missing days concentrated either early or late in the month, the monthly mean is corrected to the middle of the month using the average seasonal cycle.\n",
    "- **deseasonalized**: The interpolated monthly mean is then the sum of the average seasonal cycle value and the trend value for the missing month\n",
    "- **ndays** : -1 denotes no data for number of daily averages in the month.\n",
    "- **sdev** : standard deviation\n",
    "- **unc** : Uncertainity estimated from the standard deviation of the differences between monthly mean values determined independently by the Scripps Institution of Oceanography and by NOAA/ESRL."
   ]
  },
  {
   "cell_type": "markdown",
   "id": "ed285057-6661-4494-96fd-ebce7f16cc28",
   "metadata": {},
   "source": [
    "### 📖 Reading via from `intake` catalog\n"
   ]
  },
  {
   "cell_type": "code",
   "execution_count": null,
   "id": "ceea537b-19ff-4d9d-9eb1-b4653ebefd35",
   "metadata": {},
   "outputs": [],
   "source": [
    "catalog = catalog_init()"
   ]
  },
  {
   "cell_type": "markdown",
   "id": "24a8c415-82b1-477a-b5fd-0f6c8caa7746",
   "metadata": {},
   "source": [
    "### 👓 Data preview and dtype info"
   ]
  },
  {
   "cell_type": "code",
   "execution_count": null,
   "id": "03465c62-10d7-44fb-b8f2-55dc633db1be",
   "metadata": {},
   "outputs": [],
   "source": [
    "data = catalog.mauna_loa_co2.read()\n",
    "data.head(5)"
   ]
  },
  {
   "cell_type": "code",
   "execution_count": null,
   "id": "87afe62b-ad54-4fbf-aa02-07be9effa527",
   "metadata": {},
   "outputs": [],
   "source": [
    "data.info()"
   ]
  },
  {
   "cell_type": "markdown",
   "id": "aeda1f37-114f-47b2-9e62-c67330aa4f34",
   "metadata": {},
   "source": [
    "### 🔍 Insights and exploration"
   ]
  },
  {
   "cell_type": "code",
   "execution_count": null,
   "id": "d040cf19-d2e2-443c-a7d1-9562d9ef6f79",
   "metadata": {},
   "outputs": [],
   "source": [
    "group_plot_title = 'Co2 concentration (1996:2020)'\n",
    "plot_avg = hv.Curve(\n",
    "    (data.year, data.average),\n",
    "    \"Year\",\n",
    "    \"CO2 concentration in ppm\", \n",
    "    label=\"Average\")\n",
    "plot_deseasonalized = hv.Curve(\n",
    "    (data.year, data.deseasonalized),\n",
    "    \"Year\", \n",
    "    \"CO2 concentration in ppm\",\n",
    "    label=\"Deseasonalized\")\n",
    "\n",
    "hover = HoverTool(tooltips=[('Year','@Year'), ('Co2 (ppm)','$y')])\n",
    "plot_avg.opts(height=400, width=700, \n",
    "              tools=[hover])\n",
    "\n",
    "layout = (plot_avg * plot_deseasonalized).relabel(group_plot_title)\n",
    "layout.opts(opts.Layout(\n",
    "    shared_axes=True,\n",
    "    merge_tools=True)).opts(\n",
    "    legend_position = 'right',\n",
    "    legend_offset=(0, 200))"
   ]
  },
  {
   "cell_type": "markdown",
   "id": "33cbb737-8211-4288-b4bb-b850490fa1ad",
   "metadata": {},
   "source": [
    "#### Insights\n",
    "- Over the years the Co2 concentration has increased significantly"
   ]
  },
  {
   "cell_type": "markdown",
   "id": "6d518935-25b2-4266-9ef6-810072c7e0f3",
   "metadata": {},
   "source": [
    "### 🗓 Monthly variation in Co2 levels "
   ]
  },
  {
   "cell_type": "code",
   "execution_count": null,
   "id": "3ede3db5-9121-4b33-b4c2-671c23af07ad",
   "metadata": {},
   "outputs": [],
   "source": [
    "key_dimensions   = [('year', 'Year'), ('month', 'Month')]\n",
    "value_dimensions = [('average', 'Average Co2 (ppm)'), ('deseasonalized', 'Deseasonalized Co2 (ppm)')]\n",
    "mini = hv.Table(data, key_dimensions, value_dimensions)\n",
    "\n",
    "hover = HoverTool(tooltips=[(\"year\", \"@year\"),\n",
    "                            (\"Concentration of Co2 (ppm)\", \"$y\")])\n",
    "plot_1 = mini.to.curve('Year',['Average Co2 (ppm)'], label=\"Average Co2 concentration in ppm\").opts(\n",
    "    width=650, tools=[hover], line_width=0.75, color='grey')\n",
    "plot_2 = mini.to.curve('Year',['Deseasonalized Co2 (ppm)'], label=\"Interpolated Co2 concentration in ppm\").opts(\n",
    "    width=650, tools=[hover], line_width=1.0, color='red', line_dash='dotted')\n",
    "\n",
    "(plot_1 * plot_2).opts(shared_axes=True, legend_position='bottom_right', legend_offset=(0, 200))"
   ]
  },
  {
   "cell_type": "markdown",
   "id": "69f4e043-6efe-451d-b3cd-57285fbb5bc4",
   "metadata": {},
   "source": [
    "### Insights\n",
    "- Both estimated and interpolated Co2 concentration levels are close in month of `Jan` and `Dec`\n",
    "- In month of `May`, `Sep` and `Oct`, the observed difference between estimated and interpolated values is highest \n"
   ]
  },
  {
   "cell_type": "markdown",
   "id": "b8706978-8190-434c-8e75-8373598a1cee",
   "metadata": {},
   "source": []
  }
 ],
 "metadata": {
  "kernelspec": {
   "display_name": "filesystem-qhub-catalog",
   "language": "python",
   "name": "conda-env-filesystem-qhub-catalog-py"
  },
  "language_info": {
   "codemirror_mode": {
    "name": "ipython",
    "version": 3
   },
   "file_extension": ".py",
   "mimetype": "text/x-python",
   "name": "python",
   "nbconvert_exporter": "python",
   "pygments_lexer": "ipython3",
   "version": "3.8.13"
  }
 },
 "nbformat": 4,
 "nbformat_minor": 5
}
