{
 "cells": [
  {
   "cell_type": "markdown",
   "id": "f01c3390-a93b-4807-a27c-87b5ccbc028d",
   "metadata": {},
   "source": [
    "## Interacting with intake utils and datasets"
   ]
  },
  {
   "cell_type": "code",
   "execution_count": null,
   "id": "bcd9a99c-923b-4d8d-b8dd-069274881cd4",
   "metadata": {},
   "outputs": [],
   "source": [
    "# TODO: modify once packaging in place\n",
    "import sys\n",
    "sys.path.insert(1, '/home/sbanik@quansight.com/demo-dashboards')"
   ]
  },
  {
   "cell_type": "code",
   "execution_count": null,
   "id": "5ae6bcd2-eee9-4e8b-9ad8-4cbbea2780c6",
   "metadata": {},
   "outputs": [],
   "source": [
    "from intake_utils import (\n",
    "    catalog_init,\n",
    "    list_catalog,\n",
    "    view_catalog)"
   ]
  },
  {
   "cell_type": "markdown",
   "id": "16f6e381-d58a-4023-af61-d0777d46aa72",
   "metadata": {},
   "source": [
    "#### Initialising the catalog"
   ]
  },
  {
   "cell_type": "code",
   "execution_count": null,
   "id": "cc1e72de-9627-42b4-a523-b62202de7933",
   "metadata": {},
   "outputs": [],
   "source": [
    "catalog = catalog_init()"
   ]
  },
  {
   "cell_type": "markdown",
   "id": "c582f8c8-2872-4801-b9d7-27e7e0a485d1",
   "metadata": {},
   "source": [
    "#### Listing the catalog entries"
   ]
  },
  {
   "cell_type": "code",
   "execution_count": null,
   "id": "5c25539a-f560-42d8-8894-594886784f69",
   "metadata": {},
   "outputs": [],
   "source": [
    "list(catalog)"
   ]
  },
  {
   "cell_type": "markdown",
   "id": "117274a5-10eb-4f0b-b7e8-908c2d2502c3",
   "metadata": {},
   "source": [
    "#### Reading a catalog entry"
   ]
  },
  {
   "cell_type": "code",
   "execution_count": null,
   "id": "1fae17fe-1715-41ee-90e8-d7d529b6c624",
   "metadata": {},
   "outputs": [],
   "source": [
    "catalog.mauna_loa_co2.read()"
   ]
  },
  {
   "cell_type": "markdown",
   "id": "e37f1fa7-427c-4fc3-8845-ae738d6218d4",
   "metadata": {},
   "source": [
    "#### GUI"
   ]
  },
  {
   "cell_type": "code",
   "execution_count": null,
   "id": "64815e47-1f1e-4e8b-a3c0-02ecc0731b19",
   "metadata": {},
   "outputs": [],
   "source": [
    "view_catalog(catalog)"
   ]
  }
 ],
 "metadata": {
  "kernelspec": {
   "display_name": "filesystem-qhub-catalog",
   "language": "python",
   "name": "conda-env-filesystem-qhub-catalog-py"
  },
  "language_info": {
   "codemirror_mode": {
    "name": "ipython",
    "version": 3
   },
   "file_extension": ".py",
   "mimetype": "text/x-python",
   "name": "python",
   "nbconvert_exporter": "python",
   "pygments_lexer": "ipython3",
   "version": "3.8.13"
  }
 },
 "nbformat": 4,
 "nbformat_minor": 5
}
