{
 "cells": [
  {
   "cell_type": "code",
   "execution_count": null,
   "metadata": {},
   "outputs": [],
   "source": [
    "import pandas as pd\n",
    "import ipyvolume as ipv\n",
    "import panel as pn\n",
    "import numpy as np\n",
    "import param\n",
    "pn.extension()"
   ]
  },
  {
   "cell_type": "code",
   "execution_count": null,
   "metadata": {},
   "outputs": [],
   "source": [
    "range_scale = pn.widgets.FloatSlider(start=0, end=2, value=0.25, step=0.05)\n",
    "range_X = pn.widgets.RangeSlider(name='X', start=-10, end=10, step=range_scale.value)\n",
    "\n",
    "def the_range_X(event):\n",
    "    range_X.step = range_scale.value\n",
    "    return None\n",
    "\n",
    "range_scale.param.watch(the_range_X, \"value\")"
   ]
  },
  {
   "cell_type": "code",
   "execution_count": null,
   "metadata": {},
   "outputs": [],
   "source": [
    "text = pn.widgets.TextInput(value=\"\")\n",
    "text2 = pn.widgets.TextInput(value=\"\")\n",
    "functional = pn.widgets.TextAreaInput(value=\"np.sqrt(2*x**2+y**2)\")\n",
    "\n",
    "def value_changed(change):\n",
    "    text.param.trigger(\"value\")\n",
    "    \n",
    "def value_changed2(change):\n",
    "    text2.param.trigger(\"value\")\n",
    "    \n",
    "range_scale.param.watch(value_changed, 'value_throttled')\n",
    "range_X.param.watch(value_changed2, 'value_throttled')"
   ]
  },
  {
   "cell_type": "code",
   "execution_count": null,
   "metadata": {},
   "outputs": [],
   "source": [
    "@pn.depends(text.param.value, text2.param.value, functional.param.value)\n",
    "def plot_function(item, item2, item3):\n",
    "    mX = np.arange(range_X.value[0],range_X.value[1],range_scale.value)\n",
    "    mY = mX\n",
    "    x, y = np.meshgrid(mY, mX)\n",
    "\n",
    "    Z = eval(functional.value)\n",
    "    \n",
    "    fig = ipv.gcf()\n",
    "    fig.meshes.clear()\n",
    "    ipv.plot_surface(x, y, Z, color=\"#A183E6\")\n",
    "    ipv.plot_wireframe(x, y, Z, color=\"#26086B\")\n",
    "    ipv.xlim(x.min(),x.max())\n",
    "    ipv.ylim(y.min(),y.max())\n",
    "    ipv.zlim(Z.min(),Z.max())\n",
    "    ipv.pylab.style.box_off()\n",
    "    ipv.pylab.style.axes_off()\n",
    "    return fig"
   ]
  },
  {
   "cell_type": "code",
   "execution_count": null,
   "metadata": {},
   "outputs": [],
   "source": [
    "pn.Row(pn.pane.HTML(\"<div style='width:200px'>\"),pn.Column(range_scale, range_X, functional, plot_function)).servable()\n",
    "# some suggested example functions: (copy into text field)\n",
    "# np.sin(np.sqrt(x**2+y**2)*3) * np.exp(-1*np.sqrt(x**2+y**2)/3)\n",
    "# 6*x*y*np.exp((-1*x**2)-y**2)\n"
   ]
  }
 ],
 "metadata": {
  "kernelspec": {
   "display_name": "Python 3 (ipykernel)",
   "language": "python",
   "name": "python3"
  },
  "language_info": {
   "codemirror_mode": {
    "name": "ipython",
    "version": 3
   },
   "file_extension": ".py",
   "mimetype": "text/x-python",
   "name": "python",
   "nbconvert_exporter": "python",
   "pygments_lexer": "ipython3",
   "version": "3.9.6"
  }
 },
 "nbformat": 4,
 "nbformat_minor": 4
}
