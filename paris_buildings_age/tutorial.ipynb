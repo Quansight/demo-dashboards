{
 "cells": [
  {
   "cell_type": "markdown",
   "id": "b90704fc-a14a-455d-800f-72b7e9cb32ef",
   "metadata": {},
   "source": [
    "# Age of the buildings in Paris\n",
    "\n",
    "\n",
    "Author : Pierre-Olivier Simonard for Quansight"
   ]
  },
  {
   "cell_type": "markdown",
   "id": "94f37ef9-5064-42c3-b210-29655d5a9a24",
   "metadata": {},
   "source": [
    "### Introduction\n",
    "\n",
    "This notebook was inspired by [this Reddit/dataisbeautiful post](https://www.reddit.com/r/dataisbeautiful/comments/ns7mbx/age_of_the_buildings_in_paris_improved_version_oc/) by [Brice Person](https://twitter.com/bjperson). \n",
    "\n",
    "By using topological open data and R scripts, he created this image representing the age of buildings in Paris: \n",
    "\n",
    "<a href=\"https://i.redd.it/nvc5ndrwm9371.png\" target=\"_blank\"><img src='https://i.redd.it/nvc5ndrwm9371.png' width=\"400\"/></a>\n",
    "\n",
    "\n",
    "In this notebook, we'll see how to reproduce this image using Python and popular packages : \n",
    "- Pandas to work on the data\n",
    "- Matplotlib to generate the image"
   ]
  },
  {
   "cell_type": "code",
   "execution_count": 1,
   "id": "2252a900-1ef4-4571-809e-20943588f893",
   "metadata": {},
   "outputs": [],
   "source": [
    "import geopandas as gpd\n",
    "\n",
    "import pandas as pd\n",
    "#import cartopy\n",
    "#import cartopy.feature as cf\n",
    "\n",
    "from cartopy import crs as ccrs\n",
    "\n",
    "import os\n",
    "from datetime import datetime\n",
    "import numpy as np\n",
    "\n",
    "import matplotlib.pyplot as plt\n"
   ]
  },
  {
   "cell_type": "markdown",
   "id": "b7d1106d-78c2-4505-9f92-6285859ce23c",
   "metadata": {},
   "source": [
    "### Download the dataset\n",
    "\n",
    "The source of the data is [IGN (_Institut Géographique National_), French public administration of geographical information](https://geoservices.ign.fr/documentation/diffusion/telechargement-donnees-libres.html#bd-topo)\n",
    " \n",
    "[Click here to download the dataset](https://geoservices.ign.fr/download/files/158250/056ccf95b9621fd4d29c88b5a12abd0e/0/233/0/1) and unzip it under a directory nammed `data`\n",
    "\n",
    "----"
   ]
  },
  {
   "cell_type": "markdown",
   "id": "1acd0fbd-4e55-4cb4-967e-ab4c361e3f2f",
   "metadata": {},
   "source": [
    "### Step 1 : Extract the data for Paris only\n",
    "\n",
    "The downloaded data represent the whole urban area of Paris. Thus, the file is quite big to load while we only need the center of Paris.  \n",
    "Plus, the data are in the [Lambert Azimuthal Equal Area projection](https://en.wikipedia.org/wiki/Lambert_azimuthal_equal-area_projection), which is very convenient in the topography industry, but less convenient for our usage than the [`WGS84` coordinates system](https://epsg.io/4326) (the one we all know as \"GPS\", also known as `EPSG:4326`)\n",
    "\n",
    "\n",
    "By exploring [OpenStreetMap](https://www.openstreetmap.org/#map=12/48.8596/2.3452), the WGS84/GPS coordinates of the area we want to keep are roughly :\n",
    "\n",
    "- south west point : Lat 48.81, Lon 2.23\n",
    "- north east point : Lat 48.90, Lon 2.44\n",
    "\n",
    "\n",
    "By [converting](https://epsg.io/transform#s_srs=4326&t_srs=2154&x=2.4400000&y=48.9000000) these coordinates to Lambert Projection, we get : \n",
    "\n",
    "- south west point : x=643452.59, y=6856934.42\n",
    "- north east point : x=658945.27, y=6866811.83"
   ]
  },
  {
   "cell_type": "markdown",
   "id": "9d97925e-1f16-40e1-8c34-0c2cba9ef323",
   "metadata": {},
   "source": [
    "Now, we'll load the data as a geopandas dataframe, keep only the data in the area of interest, and then convert its data into WGS84 for convenience."
   ]
  },
  {
   "cell_type": "code",
   "execution_count": 1,
   "id": "4838a221-8b28-426f-87cf-80a071bb5e6d",
   "metadata": {},
   "outputs": [],
   "source": [
    "#!pip install geopandas\n",
    "import geopandas as gpd\n",
    "import pandas as pd\n",
    "from cartopy import crs as ccrs\n",
    "\n",
    "#\n",
    "#from datetime import datetime\n",
    "#import numpy as np\n",
    "#import matplotlib.pyplot as plt"
   ]
  },
  {
   "cell_type": "code",
   "execution_count": 2,
   "id": "b07dc4c5-cd05-4378-b7a9-3c53c6265a0d",
   "metadata": {},
   "outputs": [],
   "source": [
    "xmin = 643452.59\n",
    "ymin = 6856934.42\n",
    "\n",
    "xmax = 658945.27\n",
    "ymax = 6866811.83"
   ]
  },
  {
   "cell_type": "code",
   "execution_count": 3,
   "id": "5cfb5f05-e09f-4c0d-bc77-74b4288dfa44",
   "metadata": {},
   "outputs": [],
   "source": [
    "# Path to the shapefile of the buildings in Paris' urban area \n",
    "shapefile = 'data/BDTOPO_3-0_TOUSTHEMES_SHP_LAMB93_D075_2021-03-15/BDTOPO/1_DONNEES_LIVRAISON_2021-03-00272/BDT_3-0_SHP_LAMB93_D075-ED2021-03-15/BATI/BATIMENT.shp'\n",
    "\n",
    "# The shapefile contains data in the Lambert Azimuthal projection\n",
    "proj = ccrs.LambertAzimuthalEqualArea()\n",
    "\n",
    "# We load the data into a Geopandas Dataframe\n",
    "area = gpd.read_file(shapefile, crs=proj)\n",
    "\n",
    "# Now, we restrict the data into the area we're interested in.\n",
    "# note that the coordinates ranges are lon_min:lon_max, lat_min:lat_max\n",
    "# as in a xy coordinates system.\n",
    "paris = area.cx[xmin:xmax , ymin:ymax ]\n",
    "\n",
    "# We convert the coordinates into WGS84 (i.e. GPS, a.k.a EPSG:4326)\n",
    "paris = paris.to_crs('EPSG:4326')"
   ]
  },
  {
   "cell_type": "markdown",
   "id": "b6eec0d2-288f-4ca1-928b-fa2a092ba6f1",
   "metadata": {},
   "source": [
    "This step can take a while.  \n",
    "If we want to store the extracted data in a shapefile for a later usage, without having to filter again, we do : "
   ]
  },
  {
   "cell_type": "code",
   "execution_count": 5,
   "id": "f1a90060-a802-4314-951b-e2d822680c72",
   "metadata": {},
   "outputs": [],
   "source": [
    "import os\n",
    "os.makedirs(\"extracts/PARIS/\", exist_ok=True)\n",
    "paris.to_file(\"extracts/PARIS/PARIS.shp\")"
   ]
  },
  {
   "cell_type": "markdown",
   "id": "9ad8aefa-554a-4df8-a042-e249907863ff",
   "metadata": {},
   "source": [
    "And to load the extracted data, we'll simply do :"
   ]
  },
  {
   "cell_type": "code",
   "execution_count": 6,
   "id": "481184c1-e950-44fa-8a97-c8e2d652170d",
   "metadata": {},
   "outputs": [],
   "source": [
    "shapefile = 'extracts/PARIS/PARIS.shp'\n",
    "paris = gpd.read_file(shapefile)"
   ]
  },
  {
   "cell_type": "code",
   "execution_count": 7,
   "id": "ad15dccb-b7e4-4043-b10e-344156fc6bf3",
   "metadata": {},
   "outputs": [
    {
     "data": {
      "text/plain": [
       "214925"
      ]
     },
     "execution_count": 7,
     "metadata": {},
     "output_type": "execute_result"
    }
   ],
   "source": [
    "len(paris)"
   ]
  },
  {
   "cell_type": "markdown",
   "id": "86b9441c-2522-46f1-95c5-82bf980df90e",
   "metadata": {},
   "source": [
    "### Load the data for Paris"
   ]
  },
  {
   "cell_type": "code",
   "execution_count": 66,
   "id": "76637b37-0e27-42d3-ba2e-357f9fef4d9c",
   "metadata": {},
   "outputs": [
    {
     "data": {
      "text/html": [
       "<div>\n",
       "<style scoped>\n",
       "    .dataframe tbody tr th:only-of-type {\n",
       "        vertical-align: middle;\n",
       "    }\n",
       "\n",
       "    .dataframe tbody tr th {\n",
       "        vertical-align: top;\n",
       "    }\n",
       "\n",
       "    .dataframe thead th {\n",
       "        text-align: right;\n",
       "    }\n",
       "</style>\n",
       "<table border=\"1\" class=\"dataframe\">\n",
       "  <thead>\n",
       "    <tr style=\"text-align: right;\">\n",
       "      <th></th>\n",
       "      <th>ID</th>\n",
       "      <th>NATURE</th>\n",
       "      <th>USAGE1</th>\n",
       "      <th>USAGE2</th>\n",
       "      <th>LEGER</th>\n",
       "      <th>ETAT</th>\n",
       "      <th>DATE_CREAT</th>\n",
       "      <th>DATE_MAJ</th>\n",
       "      <th>DATE_APP</th>\n",
       "      <th>DATE_CONF</th>\n",
       "      <th>...</th>\n",
       "      <th>MAT_MURS</th>\n",
       "      <th>MAT_TOITS</th>\n",
       "      <th>HAUTEUR</th>\n",
       "      <th>Z_MIN_SOL</th>\n",
       "      <th>Z_MIN_TOIT</th>\n",
       "      <th>Z_MAX_TOIT</th>\n",
       "      <th>Z_MAX_SOL</th>\n",
       "      <th>ORIGIN_BAT</th>\n",
       "      <th>APP_FF</th>\n",
       "      <th>geometry</th>\n",
       "    </tr>\n",
       "  </thead>\n",
       "  <tbody>\n",
       "    <tr>\n",
       "      <th>0</th>\n",
       "      <td>BATIMENT0000000334291707</td>\n",
       "      <td>Indifférenciée</td>\n",
       "      <td>Indifférencié</td>\n",
       "      <td>None</td>\n",
       "      <td>Non</td>\n",
       "      <td>En service</td>\n",
       "      <td>2014-05-20 01:31:39</td>\n",
       "      <td>2019-02-05 17:15:15</td>\n",
       "      <td>None</td>\n",
       "      <td>None</td>\n",
       "      <td>...</td>\n",
       "      <td>None</td>\n",
       "      <td>None</td>\n",
       "      <td>3.1</td>\n",
       "      <td>45.7</td>\n",
       "      <td>48.8</td>\n",
       "      <td>NaN</td>\n",
       "      <td>NaN</td>\n",
       "      <td>Cadastre</td>\n",
       "      <td>None</td>\n",
       "      <td>POLYGON Z ((2.42392 48.84277 48.80000, 2.42420...</td>\n",
       "    </tr>\n",
       "  </tbody>\n",
       "</table>\n",
       "<p>1 rows × 26 columns</p>\n",
       "</div>"
      ],
      "text/plain": [
       "                         ID          NATURE         USAGE1 USAGE2 LEGER  \\\n",
       "0  BATIMENT0000000334291707  Indifférenciée  Indifférencié   None   Non   \n",
       "\n",
       "         ETAT           DATE_CREAT             DATE_MAJ DATE_APP DATE_CONF  \\\n",
       "0  En service  2014-05-20 01:31:39  2019-02-05 17:15:15     None      None   \n",
       "\n",
       "   ... MAT_MURS MAT_TOITS  HAUTEUR  Z_MIN_SOL  Z_MIN_TOIT  Z_MAX_TOIT  \\\n",
       "0  ...     None      None      3.1       45.7        48.8         NaN   \n",
       "\n",
       "  Z_MAX_SOL ORIGIN_BAT  APP_FF  \\\n",
       "0       NaN   Cadastre    None   \n",
       "\n",
       "                                            geometry  \n",
       "0  POLYGON Z ((2.42392 48.84277 48.80000, 2.42420...  \n",
       "\n",
       "[1 rows x 26 columns]"
      ]
     },
     "execution_count": 66,
     "metadata": {},
     "output_type": "execute_result"
    }
   ],
   "source": []
  },
  {
   "cell_type": "code",
   "execution_count": 67,
   "id": "da66f35a-2fa2-45cc-81ef-f3298875a9a5",
   "metadata": {},
   "outputs": [
    {
     "data": {
      "text/plain": [
       "216510"
      ]
     },
     "execution_count": 67,
     "metadata": {},
     "output_type": "execute_result"
    }
   ],
   "source": [
    "len(paris)"
   ]
  },
  {
   "cell_type": "code",
   "execution_count": 57,
   "id": "e986031d-7c36-4566-96e3-dc7f69459dcc",
   "metadata": {},
   "outputs": [
    {
     "ename": "CRSError",
     "evalue": "Invalid projection: EPSG:9820: (Internal Proj Error: proj_create: crs not found)",
     "output_type": "error",
     "traceback": [
      "\u001b[0;31m---------------------------------------------------------------------------\u001b[0m",
      "\u001b[0;31mCRSError\u001b[0m                                  Traceback (most recent call last)",
      "\u001b[0;32m/var/folders/1z/qyvvqqd90xx11g5r_2vzndxm0000gn/T/ipykernel_16858/3112744804.py\u001b[0m in \u001b[0;36m<module>\u001b[0;34m\u001b[0m\n\u001b[1;32m      1\u001b[0m \u001b[0;31m#paris3035 = paris.to_crs(epsg=3035)\u001b[0m\u001b[0;34m\u001b[0m\u001b[0;34m\u001b[0m\u001b[0;34m\u001b[0m\u001b[0m\n\u001b[0;32m----> 2\u001b[0;31m \u001b[0mparis3035\u001b[0m \u001b[0;34m=\u001b[0m \u001b[0mparis\u001b[0m\u001b[0;34m.\u001b[0m\u001b[0mto_crs\u001b[0m\u001b[0;34m(\u001b[0m\u001b[0;34m'EPSG:9820'\u001b[0m\u001b[0;34m)\u001b[0m\u001b[0;34m\u001b[0m\u001b[0;34m\u001b[0m\u001b[0m\n\u001b[0m",
      "\u001b[0;32m~/opt/miniconda3/envs/paris_buildings_age/lib/python3.9/site-packages/geopandas/geodataframe.py\u001b[0m in \u001b[0;36mto_crs\u001b[0;34m(self, crs, epsg, inplace)\u001b[0m\n\u001b[1;32m   1245\u001b[0m         \u001b[0;32melse\u001b[0m\u001b[0;34m:\u001b[0m\u001b[0;34m\u001b[0m\u001b[0;34m\u001b[0m\u001b[0m\n\u001b[1;32m   1246\u001b[0m             \u001b[0mdf\u001b[0m \u001b[0;34m=\u001b[0m \u001b[0mself\u001b[0m\u001b[0;34m.\u001b[0m\u001b[0mcopy\u001b[0m\u001b[0;34m(\u001b[0m\u001b[0;34m)\u001b[0m\u001b[0;34m\u001b[0m\u001b[0;34m\u001b[0m\u001b[0m\n\u001b[0;32m-> 1247\u001b[0;31m         \u001b[0mgeom\u001b[0m \u001b[0;34m=\u001b[0m \u001b[0mdf\u001b[0m\u001b[0;34m.\u001b[0m\u001b[0mgeometry\u001b[0m\u001b[0;34m.\u001b[0m\u001b[0mto_crs\u001b[0m\u001b[0;34m(\u001b[0m\u001b[0mcrs\u001b[0m\u001b[0;34m=\u001b[0m\u001b[0mcrs\u001b[0m\u001b[0;34m,\u001b[0m \u001b[0mepsg\u001b[0m\u001b[0;34m=\u001b[0m\u001b[0mepsg\u001b[0m\u001b[0;34m)\u001b[0m\u001b[0;34m\u001b[0m\u001b[0;34m\u001b[0m\u001b[0m\n\u001b[0m\u001b[1;32m   1248\u001b[0m         \u001b[0mdf\u001b[0m\u001b[0;34m.\u001b[0m\u001b[0mgeometry\u001b[0m \u001b[0;34m=\u001b[0m \u001b[0mgeom\u001b[0m\u001b[0;34m\u001b[0m\u001b[0;34m\u001b[0m\u001b[0m\n\u001b[1;32m   1249\u001b[0m         \u001b[0mdf\u001b[0m\u001b[0;34m.\u001b[0m\u001b[0mcrs\u001b[0m \u001b[0;34m=\u001b[0m \u001b[0mgeom\u001b[0m\u001b[0;34m.\u001b[0m\u001b[0mcrs\u001b[0m\u001b[0;34m\u001b[0m\u001b[0;34m\u001b[0m\u001b[0m\n",
      "\u001b[0;32m~/opt/miniconda3/envs/paris_buildings_age/lib/python3.9/site-packages/geopandas/geoseries.py\u001b[0m in \u001b[0;36mto_crs\u001b[0;34m(self, crs, epsg)\u001b[0m\n\u001b[1;32m   1026\u001b[0m         \"\"\"\n\u001b[1;32m   1027\u001b[0m         return GeoSeries(\n\u001b[0;32m-> 1028\u001b[0;31m             \u001b[0mself\u001b[0m\u001b[0;34m.\u001b[0m\u001b[0mvalues\u001b[0m\u001b[0;34m.\u001b[0m\u001b[0mto_crs\u001b[0m\u001b[0;34m(\u001b[0m\u001b[0mcrs\u001b[0m\u001b[0;34m=\u001b[0m\u001b[0mcrs\u001b[0m\u001b[0;34m,\u001b[0m \u001b[0mepsg\u001b[0m\u001b[0;34m=\u001b[0m\u001b[0mepsg\u001b[0m\u001b[0;34m)\u001b[0m\u001b[0;34m,\u001b[0m \u001b[0mindex\u001b[0m\u001b[0;34m=\u001b[0m\u001b[0mself\u001b[0m\u001b[0;34m.\u001b[0m\u001b[0mindex\u001b[0m\u001b[0;34m,\u001b[0m \u001b[0mname\u001b[0m\u001b[0;34m=\u001b[0m\u001b[0mself\u001b[0m\u001b[0;34m.\u001b[0m\u001b[0mname\u001b[0m\u001b[0;34m\u001b[0m\u001b[0;34m\u001b[0m\u001b[0m\n\u001b[0m\u001b[1;32m   1029\u001b[0m         )\n\u001b[1;32m   1030\u001b[0m \u001b[0;34m\u001b[0m\u001b[0m\n",
      "\u001b[0;32m~/opt/miniconda3/envs/paris_buildings_age/lib/python3.9/site-packages/geopandas/array.py\u001b[0m in \u001b[0;36mto_crs\u001b[0;34m(self, crs, epsg)\u001b[0m\n\u001b[1;32m    783\u001b[0m             )\n\u001b[1;32m    784\u001b[0m         \u001b[0;32mif\u001b[0m \u001b[0mcrs\u001b[0m \u001b[0;32mis\u001b[0m \u001b[0;32mnot\u001b[0m \u001b[0;32mNone\u001b[0m\u001b[0;34m:\u001b[0m\u001b[0;34m\u001b[0m\u001b[0;34m\u001b[0m\u001b[0m\n\u001b[0;32m--> 785\u001b[0;31m             \u001b[0mcrs\u001b[0m \u001b[0;34m=\u001b[0m \u001b[0mCRS\u001b[0m\u001b[0;34m.\u001b[0m\u001b[0mfrom_user_input\u001b[0m\u001b[0;34m(\u001b[0m\u001b[0mcrs\u001b[0m\u001b[0;34m)\u001b[0m\u001b[0;34m\u001b[0m\u001b[0;34m\u001b[0m\u001b[0m\n\u001b[0m\u001b[1;32m    786\u001b[0m         \u001b[0;32melif\u001b[0m \u001b[0mepsg\u001b[0m \u001b[0;32mis\u001b[0m \u001b[0;32mnot\u001b[0m \u001b[0;32mNone\u001b[0m\u001b[0;34m:\u001b[0m\u001b[0;34m\u001b[0m\u001b[0;34m\u001b[0m\u001b[0m\n\u001b[1;32m    787\u001b[0m             \u001b[0mcrs\u001b[0m \u001b[0;34m=\u001b[0m \u001b[0mCRS\u001b[0m\u001b[0;34m.\u001b[0m\u001b[0mfrom_epsg\u001b[0m\u001b[0;34m(\u001b[0m\u001b[0mepsg\u001b[0m\u001b[0;34m)\u001b[0m\u001b[0;34m\u001b[0m\u001b[0;34m\u001b[0m\u001b[0m\n",
      "\u001b[0;32m~/opt/miniconda3/envs/paris_buildings_age/lib/python3.9/site-packages/pyproj/crs/crs.py\u001b[0m in \u001b[0;36mfrom_user_input\u001b[0;34m(value, **kwargs)\u001b[0m\n\u001b[1;32m    464\u001b[0m         \u001b[0;32mif\u001b[0m \u001b[0misinstance\u001b[0m\u001b[0;34m(\u001b[0m\u001b[0mvalue\u001b[0m\u001b[0;34m,\u001b[0m \u001b[0mCRS\u001b[0m\u001b[0;34m)\u001b[0m\u001b[0;34m:\u001b[0m\u001b[0;34m\u001b[0m\u001b[0;34m\u001b[0m\u001b[0m\n\u001b[1;32m    465\u001b[0m             \u001b[0;32mreturn\u001b[0m \u001b[0mvalue\u001b[0m\u001b[0;34m\u001b[0m\u001b[0;34m\u001b[0m\u001b[0m\n\u001b[0;32m--> 466\u001b[0;31m         \u001b[0;32mreturn\u001b[0m \u001b[0mCRS\u001b[0m\u001b[0;34m(\u001b[0m\u001b[0mvalue\u001b[0m\u001b[0;34m,\u001b[0m \u001b[0;34m**\u001b[0m\u001b[0mkwargs\u001b[0m\u001b[0;34m)\u001b[0m\u001b[0;34m\u001b[0m\u001b[0;34m\u001b[0m\u001b[0m\n\u001b[0m\u001b[1;32m    467\u001b[0m \u001b[0;34m\u001b[0m\u001b[0m\n\u001b[1;32m    468\u001b[0m     \u001b[0;32mdef\u001b[0m \u001b[0mget_geod\u001b[0m\u001b[0;34m(\u001b[0m\u001b[0mself\u001b[0m\u001b[0;34m)\u001b[0m \u001b[0;34m->\u001b[0m \u001b[0mOptional\u001b[0m\u001b[0;34m[\u001b[0m\u001b[0mGeod\u001b[0m\u001b[0;34m]\u001b[0m\u001b[0;34m:\u001b[0m\u001b[0;34m\u001b[0m\u001b[0;34m\u001b[0m\u001b[0m\n",
      "\u001b[0;32m~/opt/miniconda3/envs/paris_buildings_age/lib/python3.9/site-packages/pyproj/crs/crs.py\u001b[0m in \u001b[0;36m__init__\u001b[0;34m(self, projparams, **kwargs)\u001b[0m\n\u001b[1;32m    311\u001b[0m             \u001b[0mself\u001b[0m\u001b[0;34m.\u001b[0m\u001b[0m_local\u001b[0m\u001b[0;34m.\u001b[0m\u001b[0mcrs\u001b[0m \u001b[0;34m=\u001b[0m \u001b[0mprojparams\u001b[0m\u001b[0;34m\u001b[0m\u001b[0;34m\u001b[0m\u001b[0m\n\u001b[1;32m    312\u001b[0m         \u001b[0;32melse\u001b[0m\u001b[0;34m:\u001b[0m\u001b[0;34m\u001b[0m\u001b[0;34m\u001b[0m\u001b[0m\n\u001b[0;32m--> 313\u001b[0;31m             \u001b[0mself\u001b[0m\u001b[0;34m.\u001b[0m\u001b[0m_local\u001b[0m\u001b[0;34m.\u001b[0m\u001b[0mcrs\u001b[0m \u001b[0;34m=\u001b[0m \u001b[0m_CRS\u001b[0m\u001b[0;34m(\u001b[0m\u001b[0mself\u001b[0m\u001b[0;34m.\u001b[0m\u001b[0msrs\u001b[0m\u001b[0;34m)\u001b[0m\u001b[0;34m\u001b[0m\u001b[0;34m\u001b[0m\u001b[0m\n\u001b[0m\u001b[1;32m    314\u001b[0m \u001b[0;34m\u001b[0m\u001b[0m\n\u001b[1;32m    315\u001b[0m     \u001b[0;34m@\u001b[0m\u001b[0mproperty\u001b[0m\u001b[0;34m\u001b[0m\u001b[0;34m\u001b[0m\u001b[0m\n",
      "\u001b[0;32mpyproj/_crs.pyx\u001b[0m in \u001b[0;36mpyproj._crs._CRS.__init__\u001b[0;34m()\u001b[0m\n",
      "\u001b[0;31mCRSError\u001b[0m: Invalid projection: EPSG:9820: (Internal Proj Error: proj_create: crs not found)"
     ]
    }
   ],
   "source": [
    "#paris3035 = paris.to_crs(epsg=3035)\n",
    "paris3035 = paris.to_crs('EPSG:3035')"
   ]
  },
  {
   "cell_type": "code",
   "execution_count": 58,
   "id": "b04719a1-ae5e-46fb-ad10-346062c2772a",
   "metadata": {},
   "outputs": [
    {
     "data": {
      "text/plain": [
       "(minx    3.751342e+06\n",
       " miny    2.883630e+06\n",
       " maxx    3.751355e+06\n",
       " maxy    2.883670e+06\n",
       " dtype: float64,\n",
       " minx    3.767658e+06\n",
       " miny    2.895223e+06\n",
       " maxx    3.767682e+06\n",
       " maxy    2.895283e+06\n",
       " dtype: float64)"
      ]
     },
     "execution_count": 58,
     "metadata": {},
     "output_type": "execute_result"
    }
   ],
   "source": [
    "paris3035.bounds.min(), paris3035.bounds.max()"
   ]
  },
  {
   "cell_type": "markdown",
   "id": "7bc00b67-4304-4871-9b3e-2e8d33bc6ec0",
   "metadata": {},
   "source": [
    "### Compute the age of the buildings\n",
    "\n",
    "The column \"DATE_APP\" (_date d'apparition_) tells us when then building \"appeared\". Let's have a look at this column's data :"
   ]
  },
  {
   "cell_type": "code",
   "execution_count": 18,
   "id": "13c805d2-2d08-4969-b06a-2abb42f4b58b",
   "metadata": {},
   "outputs": [
    {
     "data": {
      "text/plain": [
       "count       0\n",
       "unique      0\n",
       "top       NaN\n",
       "freq      NaN\n",
       "Name: DATE_APP, dtype: object"
      ]
     },
     "execution_count": 18,
     "metadata": {},
     "output_type": "execute_result"
    }
   ],
   "source": [
    "paris.loc[ paris['DATE_APP'].notnull(), 'DATE_APP' ].describe()"
   ]
  },
  {
   "cell_type": "code",
   "execution_count": 4,
   "id": "2ec82839-0093-434c-8856-a31ff10fc49b",
   "metadata": {},
   "outputs": [
    {
     "data": {
      "text/plain": [
       "121238"
      ]
     },
     "execution_count": 4,
     "metadata": {},
     "output_type": "execute_result"
    }
   ],
   "source": [
    "len(paris[ paris['DATE_APP'].notnull() ])"
   ]
  },
  {
   "cell_type": "code",
   "execution_count": 5,
   "id": "fa17fe70-141a-412e-9ffc-f547a46eca40",
   "metadata": {},
   "outputs": [
    {
     "data": {
      "text/plain": [
       "24    1968-01-01\n",
       "27    1830-01-01\n",
       "38    1890-01-01\n",
       "39    1900-01-01\n",
       "40    1940-01-01\n",
       "Name: DATE_APP, dtype: object"
      ]
     },
     "execution_count": 5,
     "metadata": {},
     "output_type": "execute_result"
    }
   ],
   "source": [
    "paris.loc[ paris['DATE_APP'].notnull(), 'DATE_APP' ].head()"
   ]
  },
  {
   "cell_type": "markdown",
   "id": "7517674e-6bcd-472f-ba3c-348672d78361",
   "metadata": {},
   "source": [
    "We can get the age of each building, for which `DATE_APP` is not None, by using the 4 first characters of each string."
   ]
  },
  {
   "cell_type": "code",
   "execution_count": 6,
   "id": "226aef6b-8c7f-46f6-a0bc-ed9c6bb7e10c",
   "metadata": {},
   "outputs": [],
   "source": [
    "def build_age(x):\n",
    "    \n",
    "    if x is None:\n",
    "        return None\n",
    "    \n",
    "    return datetime.now().year - int(x[:4])\n",
    "\n",
    "paris['AGE'] = paris.loc[ :, 'DATE_APP'].apply(build_age)"
   ]
  },
  {
   "cell_type": "markdown",
   "id": "9d8b762c-cb37-41dd-9311-b1949d5e4427",
   "metadata": {},
   "source": [
    "Now let's plot the distribution of the age of the buildings"
   ]
  },
  {
   "cell_type": "code",
   "execution_count": 7,
   "id": "f8366d70-aca5-475d-8c68-6fd859e3f138",
   "metadata": {},
   "outputs": [
    {
     "data": {
      "text/plain": [
       "<AxesSubplot:>"
      ]
     },
     "execution_count": 7,
     "metadata": {},
     "output_type": "execute_result"
    },
    {
     "data": {
      "image/png": "[encoded data removed]",
      "text/plain": [
       "<Figure size 432x288 with 1 Axes>"
      ]
     },
     "metadata": {
      "needs_background": "light"
     },
     "output_type": "display_data"
    }
   ],
   "source": [
    "paris['AGE'].hist(bins=48)"
   ]
  },
  {
   "cell_type": "code",
   "execution_count": 8,
   "id": "e469e693-681c-42b0-9464-254cca0f75d3",
   "metadata": {},
   "outputs": [
    {
     "data": {
      "text/plain": [
       "<AxesSubplot:>"
      ]
     },
     "execution_count": 8,
     "metadata": {},
     "output_type": "execute_result"
    },
    {
     "data": {
      "image/png": "[encoded data removed]",
      "text/plain": [
       "<Figure size 432x288 with 1 Axes>"
      ]
     },
     "metadata": {
      "needs_background": "light"
     },
     "output_type": "display_data"
    }
   ],
   "source": [
    "# restrict on builidngs less than 300 years old\n",
    "paris.loc[  paris['AGE'] < 300 , 'AGE' ].hist(bins=48) "
   ]
  },
  {
   "cell_type": "markdown",
   "id": "dbe2ea57-fd17-4fe2-978a-597b526699fd",
   "metadata": {},
   "source": [
    "### Prepare the data for the plot\n",
    "\n",
    "We need to \"bin\" the data into discrete intervales based on the age, so the resulting image will have evenly distributed colors.\n",
    "\n",
    "As `geopandas` relies on `pandas`, we can use the [qcut function](https://pandas.pydata.org/pandas-docs/stable/reference/api/pandas.cut.html).\n",
    "\n",
    "Let's assume we have a color scale made of 16 colors, we'll want 16 bins :"
   ]
  },
  {
   "cell_type": "code",
   "execution_count": 9,
   "id": "dac9161f-f432-4ebb-8ee2-571e6feaa8fc",
   "metadata": {},
   "outputs": [
    {
     "name": "stdout",
     "output_type": "stream",
     "text": [
      "(111.0, 121.0]    18496\n",
      "(139.0, 141.0]     8887\n",
      "(102.0, 111.0]     8700\n",
      "(141.0, 161.0]     8627\n",
      "(89.0, 95.0]       7907\n",
      "(3.999, 19.0]      7852\n",
      "(19.0, 31.0]       7713\n",
      "(31.0, 51.0]       7679\n",
      "(129.0, 139.0]     7535\n",
      "(51.0, 66.0]       7348\n",
      "(95.0, 102.0]      7347\n",
      "(181.0, 821.0]     7342\n",
      "(66.0, 89.0]       7300\n",
      "(161.0, 181.0]     5409\n",
      "(121.0, 129.0]     3096\n",
      "Name: AGE, dtype: int64\n"
     ]
    },
    {
     "data": {
      "text/plain": [
       "array([  4.,  19.,  31.,  51.,  66.,  89.,  95., 102., 111., 121., 129.,\n",
       "       139., 141., 161., 181., 821.])"
      ]
     },
     "execution_count": 9,
     "metadata": {},
     "output_type": "execute_result"
    }
   ],
   "source": [
    "bins_data = pd.qcut(paris['AGE'], q=16, duplicates='drop', retbins=True)\n",
    "print(bins_data[0].value_counts())\n",
    "\n",
    "bins = bins_data[1]\n",
    "bins"
   ]
  },
  {
   "cell_type": "code",
   "execution_count": 11,
   "id": "e9579a2e-7d39-49de-9720-6d77a936e282",
   "metadata": {
    "tags": []
   },
   "outputs": [],
   "source": [
    "# code to generate the image with the same color scale as the original work.\n",
    "\n",
    "color_scale = [\n",
    "(23,     (160,   0,  22)    ),\n",
    "(40,     (186,  34,  30)    ),\n",
    "(57,     (212,  67,  39)    ),\n",
    "(77,     (239, 101,  47)    ),\n",
    "(93,     (255, 135,  62)    ),\n",
    "(103,    (255, 179,  94)    ),\n",
    "(115,    (255, 203, 129)    ),\n",
    "(128,    (255, 238, 165)    ),\n",
    "(145,    (226, 246, 184)    ),\n",
    "(164,    (167, 223, 185)    ),\n",
    "(197,    (109, 202, 187)    ),\n",
    "(241,    ( 53, 180, 188)    ),\n",
    "(296,    ( 37, 146, 178)    ),\n",
    "(361,    ( 36, 110, 164)    ),\n",
    "(563,    ( 32,  76, 150)    ),\n",
    "(821,    ( 29,  43, 137)    ) ]\n",
    "\n",
    "\n",
    "def color_for_age(age):\n",
    "    if np.isnan(age):\n",
    "        return '#%02x%02x%02x' % (39, 39, 39)\n",
    "    \n",
    "    for (a_limit, (r,g,b)) in color_scale[::-1]:\n",
    "        if age >= a_limit:\n",
    "            return '#%02x%02x%02x' % (r, g, b)"
   ]
  },
  {
   "cell_type": "code",
   "execution_count": 10,
   "id": "fe2004c9-6466-4bf8-aa56-2241b09d6e26",
   "metadata": {},
   "outputs": [],
   "source": [
    "# based on : https://bsouthga.dev/posts/color-gradients-with-python\n",
    "\n",
    "\n",
    "def hex_to_RGB(hex):\n",
    "    return [int(hex[i:i+2], 16) for i in range(1,6,2)]\n",
    "\n",
    "def RGB_to_hex(RGB):\n",
    "    RGB = [int(x) for x in RGB]\n",
    "    return \"#\"+\"\".join([\"0{0:x}\".format(v) if v < 16 else\n",
    "                        \"{0:x}\".format(v) for v in RGB])\n",
    "\n",
    "def color_scale(from_hex, to_hex, n=10):\n",
    "    \n",
    "    from_rgb = hex_to_RGB(from_hex)\n",
    "    to_rgb = hex_to_RGB(to_hex)\n",
    "    \n",
    "    result = [from_hex]\n",
    "\n",
    "    for i in range(1, n):\n",
    "        new_color = [\n",
    "            int(from_rgb[j] + (float(i)/(n-1))*(to_rgb[j]-from_rgb[j]))\n",
    "            for j in range(3)\n",
    "        ]\n",
    "\n",
    "        result.append( RGB_to_hex(new_color))\n",
    "\n",
    "    return result"
   ]
  },
  {
   "cell_type": "code",
   "execution_count": 11,
   "id": "0be6e029-1efd-4cae-9f20-071770426dfa",
   "metadata": {},
   "outputs": [],
   "source": [
    "# Primary colors, according to the palette V1 :\n",
    "violet = \"#452392\"\n",
    "plum = \"#A43A8F\"\n",
    "green = \"#99C941\""
   ]
  },
  {
   "cell_type": "code",
   "execution_count": 12,
   "id": "94daa8d5-f05e-4dc5-9216-81e9c37fcdd4",
   "metadata": {
    "collapsed": true,
    "jupyter": {
     "outputs_hidden": true
    },
    "tags": []
   },
   "outputs": [
    {
     "data": {
      "text/html": [
       "<div style=\"width:30px;height:30px;background-color:#452392;display:inline;float:left;margin-right:10px;\">&nbsp;</div>#452392"
      ],
      "text/plain": [
       "<IPython.core.display.HTML object>"
      ]
     },
     "metadata": {},
     "output_type": "display_data"
    },
    {
     "data": {
      "text/html": [
       "<div style=\"width:30px;height:30px;background-color:#4f2591;display:inline;float:left;margin-right:10px;\">&nbsp;</div>#4f2591"
      ],
      "text/plain": [
       "<IPython.core.display.HTML object>"
      ]
     },
     "metadata": {},
     "output_type": "display_data"
    },
    {
     "data": {
      "text/html": [
       "<div style=\"width:30px;height:30px;background-color:#5a2891;display:inline;float:left;margin-right:10px;\">&nbsp;</div>#5a2891"
      ],
      "text/plain": [
       "<IPython.core.display.HTML object>"
      ]
     },
     "metadata": {},
     "output_type": "display_data"
    },
    {
     "data": {
      "text/html": [
       "<div style=\"width:30px;height:30px;background-color:#642a91;display:inline;float:left;margin-right:10px;\">&nbsp;</div>#642a91"
      ],
      "text/plain": [
       "<IPython.core.display.HTML object>"
      ]
     },
     "metadata": {},
     "output_type": "display_data"
    },
    {
     "data": {
      "text/html": [
       "<div style=\"width:30px;height:30px;background-color:#6f2d90;display:inline;float:left;margin-right:10px;\">&nbsp;</div>#6f2d90"
      ],
      "text/plain": [
       "<IPython.core.display.HTML object>"
      ]
     },
     "metadata": {},
     "output_type": "display_data"
    },
    {
     "data": {
      "text/html": [
       "<div style=\"width:30px;height:30px;background-color:#792f90;display:inline;float:left;margin-right:10px;\">&nbsp;</div>#792f90"
      ],
      "text/plain": [
       "<IPython.core.display.HTML object>"
      ]
     },
     "metadata": {},
     "output_type": "display_data"
    },
    {
     "data": {
      "text/html": [
       "<div style=\"width:30px;height:30px;background-color:#843290;display:inline;float:left;margin-right:10px;\">&nbsp;</div>#843290"
      ],
      "text/plain": [
       "<IPython.core.display.HTML object>"
      ]
     },
     "metadata": {},
     "output_type": "display_data"
    },
    {
     "data": {
      "text/html": [
       "<div style=\"width:30px;height:30px;background-color:#8e348f;display:inline;float:left;margin-right:10px;\">&nbsp;</div>#8e348f"
      ],
      "text/plain": [
       "<IPython.core.display.HTML object>"
      ]
     },
     "metadata": {},
     "output_type": "display_data"
    },
    {
     "data": {
      "text/html": [
       "<div style=\"width:30px;height:30px;background-color:#99378f;display:inline;float:left;margin-right:10px;\">&nbsp;</div>#99378f"
      ],
      "text/plain": [
       "<IPython.core.display.HTML object>"
      ]
     },
     "metadata": {},
     "output_type": "display_data"
    },
    {
     "data": {
      "text/html": [
       "<div style=\"width:30px;height:30px;background-color:#a43a8f;display:inline;float:left;margin-right:10px;\">&nbsp;</div>#a43a8f"
      ],
      "text/plain": [
       "<IPython.core.display.HTML object>"
      ]
     },
     "metadata": {},
     "output_type": "display_data"
    },
    {
     "data": {
      "text/html": [
       "<div style=\"width:30px;height:30px;background-color:#a24986;display:inline;float:left;margin-right:10px;\">&nbsp;</div>#a24986"
      ],
      "text/plain": [
       "<IPython.core.display.HTML object>"
      ]
     },
     "metadata": {},
     "output_type": "display_data"
    },
    {
     "data": {
      "text/html": [
       "<div style=\"width:30px;height:30px;background-color:#a1597d;display:inline;float:left;margin-right:10px;\">&nbsp;</div>#a1597d"
      ],
      "text/plain": [
       "<IPython.core.display.HTML object>"
      ]
     },
     "metadata": {},
     "output_type": "display_data"
    },
    {
     "data": {
      "text/html": [
       "<div style=\"width:30px;height:30px;background-color:#a06975;display:inline;float:left;margin-right:10px;\">&nbsp;</div>#a06975"
      ],
      "text/plain": [
       "<IPython.core.display.HTML object>"
      ]
     },
     "metadata": {},
     "output_type": "display_data"
    },
    {
     "data": {
      "text/html": [
       "<div style=\"width:30px;height:30px;background-color:#9f796c;display:inline;float:left;margin-right:10px;\">&nbsp;</div>#9f796c"
      ],
      "text/plain": [
       "<IPython.core.display.HTML object>"
      ]
     },
     "metadata": {},
     "output_type": "display_data"
    },
    {
     "data": {
      "text/html": [
       "<div style=\"width:30px;height:30px;background-color:#9d8963;display:inline;float:left;margin-right:10px;\">&nbsp;</div>#9d8963"
      ],
      "text/plain": [
       "<IPython.core.display.HTML object>"
      ]
     },
     "metadata": {},
     "output_type": "display_data"
    },
    {
     "data": {
      "text/html": [
       "<div style=\"width:30px;height:30px;background-color:#9c995b;display:inline;float:left;margin-right:10px;\">&nbsp;</div>#9c995b"
      ],
      "text/plain": [
       "<IPython.core.display.HTML object>"
      ]
     },
     "metadata": {},
     "output_type": "display_data"
    },
    {
     "data": {
      "text/html": [
       "<div style=\"width:30px;height:30px;background-color:#9ba952;display:inline;float:left;margin-right:10px;\">&nbsp;</div>#9ba952"
      ],
      "text/plain": [
       "<IPython.core.display.HTML object>"
      ]
     },
     "metadata": {},
     "output_type": "display_data"
    },
    {
     "data": {
      "text/html": [
       "<div style=\"width:30px;height:30px;background-color:#9ab949;display:inline;float:left;margin-right:10px;\">&nbsp;</div>#9ab949"
      ],
      "text/plain": [
       "<IPython.core.display.HTML object>"
      ]
     },
     "metadata": {},
     "output_type": "display_data"
    },
    {
     "data": {
      "text/html": [
       "<div style=\"width:30px;height:30px;background-color:#99c941;display:inline;float:left;margin-right:10px;\">&nbsp;</div>#99c941"
      ],
      "text/plain": [
       "<IPython.core.display.HTML object>"
      ]
     },
     "metadata": {},
     "output_type": "display_data"
    }
   ],
   "source": [
    "from IPython.core.display import HTML, display\n",
    "\n",
    "for k in color_scale(violet,plum) + color_scale(plum,green)[1:]:\n",
    "        display(HTML(f'''<div style=\"width:30px;height:30px;background-color:{k};display:inline;float:left;margin-right:10px;\">&nbsp;</div>{k}'''))"
   ]
  },
  {
   "cell_type": "code",
   "execution_count": 28,
   "id": "3da5c095-adeb-4f41-9bec-6a8c00b26b6a",
   "metadata": {
    "collapsed": true,
    "jupyter": {
     "outputs_hidden": true
    },
    "tags": []
   },
   "outputs": [
    {
     "data": {
      "text/html": [
       "<div style=\"width:30px;height:30px;background-color:#98C841;display:inline;float:left;margin-right:10px;\">&nbsp;</div>#98C841"
      ],
      "text/plain": [
       "<IPython.core.display.HTML object>"
      ]
     },
     "metadata": {},
     "output_type": "display_data"
    },
    {
     "data": {
      "text/html": [
       "<div style=\"width:30px;height:30px;background-color:#a3ce56;display:inline;float:left;margin-right:10px;\">&nbsp;</div>#a3ce56"
      ],
      "text/plain": [
       "<IPython.core.display.HTML object>"
      ]
     },
     "metadata": {},
     "output_type": "display_data"
    },
    {
     "data": {
      "text/html": [
       "<div style=\"width:30px;height:30px;background-color:#aed46b;display:inline;float:left;margin-right:10px;\">&nbsp;</div>#aed46b"
      ],
      "text/plain": [
       "<IPython.core.display.HTML object>"
      ]
     },
     "metadata": {},
     "output_type": "display_data"
    },
    {
     "data": {
      "text/html": [
       "<div style=\"width:30px;height:30px;background-color:#bada80;display:inline;float:left;margin-right:10px;\">&nbsp;</div>#bada80"
      ],
      "text/plain": [
       "<IPython.core.display.HTML object>"
      ]
     },
     "metadata": {},
     "output_type": "display_data"
    },
    {
     "data": {
      "text/html": [
       "<div style=\"width:30px;height:30px;background-color:#c5e095;display:inline;float:left;margin-right:10px;\">&nbsp;</div>#c5e095"
      ],
      "text/plain": [
       "<IPython.core.display.HTML object>"
      ]
     },
     "metadata": {},
     "output_type": "display_data"
    },
    {
     "data": {
      "text/html": [
       "<div style=\"width:30px;height:30px;background-color:#d1e6aa;display:inline;float:left;margin-right:10px;\">&nbsp;</div>#d1e6aa"
      ],
      "text/plain": [
       "<IPython.core.display.HTML object>"
      ]
     },
     "metadata": {},
     "output_type": "display_data"
    },
    {
     "data": {
      "text/html": [
       "<div style=\"width:30px;height:30px;background-color:#dcecbf;display:inline;float:left;margin-right:10px;\">&nbsp;</div>#dcecbf"
      ],
      "text/plain": [
       "<IPython.core.display.HTML object>"
      ]
     },
     "metadata": {},
     "output_type": "display_data"
    },
    {
     "data": {
      "text/html": [
       "<div style=\"width:30px;height:30px;background-color:#e8f2d4;display:inline;float:left;margin-right:10px;\">&nbsp;</div>#e8f2d4"
      ],
      "text/plain": [
       "<IPython.core.display.HTML object>"
      ]
     },
     "metadata": {},
     "output_type": "display_data"
    },
    {
     "data": {
      "text/html": [
       "<div style=\"width:30px;height:30px;background-color:#f3f8e9;display:inline;float:left;margin-right:10px;\">&nbsp;</div>#f3f8e9"
      ],
      "text/plain": [
       "<IPython.core.display.HTML object>"
      ]
     },
     "metadata": {},
     "output_type": "display_data"
    },
    {
     "data": {
      "text/html": [
       "<div style=\"width:30px;height:30px;background-color:#ffffff;display:inline;float:left;margin-right:10px;\">&nbsp;</div>#ffffff"
      ],
      "text/plain": [
       "<IPython.core.display.HTML object>"
      ]
     },
     "metadata": {},
     "output_type": "display_data"
    }
   ],
   "source": [
    "for k in color_scale(\"#98C841\",\"#FFFFFF\"):\n",
    "        display(HTML(f'''<div style=\"width:30px;height:30px;background-color:{k};display:inline;float:left;margin-right:10px;\">&nbsp;</div>{k}'''))"
   ]
  },
  {
   "cell_type": "code",
   "execution_count": 29,
   "id": "3c803c60-b4eb-47be-93e8-fdb3f3a0edaa",
   "metadata": {
    "collapsed": true,
    "jupyter": {
     "outputs_hidden": true
    },
    "tags": []
   },
   "outputs": [
    {
     "data": {
      "text/html": [
       "<div style=\"width:30px;height:30px;background-color:#99C941;display:inline;float:left;margin-right:10px;\">&nbsp;</div>#99C941"
      ],
      "text/plain": [
       "<IPython.core.display.HTML object>"
      ]
     },
     "metadata": {},
     "output_type": "display_data"
    },
    {
     "data": {
      "text/html": [
       "<div style=\"width:30px;height:30px;background-color:#9ABC48;display:inline;float:left;margin-right:10px;\">&nbsp;</div>#9ABC48"
      ],
      "text/plain": [
       "<IPython.core.display.HTML object>"
      ]
     },
     "metadata": {},
     "output_type": "display_data"
    },
    {
     "data": {
      "text/html": [
       "<div style=\"width:30px;height:30px;background-color:#9BAF4F;display:inline;float:left;margin-right:10px;\">&nbsp;</div>#9BAF4F"
      ],
      "text/plain": [
       "<IPython.core.display.HTML object>"
      ]
     },
     "metadata": {},
     "output_type": "display_data"
    },
    {
     "data": {
      "text/html": [
       "<div style=\"width:30px;height:30px;background-color:#9CA256;display:inline;float:left;margin-right:10px;\">&nbsp;</div>#9CA256"
      ],
      "text/plain": [
       "<IPython.core.display.HTML object>"
      ]
     },
     "metadata": {},
     "output_type": "display_data"
    },
    {
     "data": {
      "text/html": [
       "<div style=\"width:30px;height:30px;background-color:#9D955D;display:inline;float:left;margin-right:10px;\">&nbsp;</div>#9D955D"
      ],
      "text/plain": [
       "<IPython.core.display.HTML object>"
      ]
     },
     "metadata": {},
     "output_type": "display_data"
    },
    {
     "data": {
      "text/html": [
       "<div style=\"width:30px;height:30px;background-color:#9E8864;display:inline;float:left;margin-right:10px;\">&nbsp;</div>#9E8864"
      ],
      "text/plain": [
       "<IPython.core.display.HTML object>"
      ]
     },
     "metadata": {},
     "output_type": "display_data"
    },
    {
     "data": {
      "text/html": [
       "<div style=\"width:30px;height:30px;background-color:#9F7B6C;display:inline;float:left;margin-right:10px;\">&nbsp;</div>#9F7B6C"
      ],
      "text/plain": [
       "<IPython.core.display.HTML object>"
      ]
     },
     "metadata": {},
     "output_type": "display_data"
    },
    {
     "data": {
      "text/html": [
       "<div style=\"width:30px;height:30px;background-color:#A06E73;display:inline;float:left;margin-right:10px;\">&nbsp;</div>#A06E73"
      ],
      "text/plain": [
       "<IPython.core.display.HTML object>"
      ]
     },
     "metadata": {},
     "output_type": "display_data"
    },
    {
     "data": {
      "text/html": [
       "<div style=\"width:30px;height:30px;background-color:#A1617A;display:inline;float:left;margin-right:10px;\">&nbsp;</div>#A1617A"
      ],
      "text/plain": [
       "<IPython.core.display.HTML object>"
      ]
     },
     "metadata": {},
     "output_type": "display_data"
    },
    {
     "data": {
      "text/html": [
       "<div style=\"width:30px;height:30px;background-color:#A25481;display:inline;float:left;margin-right:10px;\">&nbsp;</div>#A25481"
      ],
      "text/plain": [
       "<IPython.core.display.HTML object>"
      ]
     },
     "metadata": {},
     "output_type": "display_data"
    },
    {
     "data": {
      "text/html": [
       "<div style=\"width:30px;height:30px;background-color:#A34788;display:inline;float:left;margin-right:10px;\">&nbsp;</div>#A34788"
      ],
      "text/plain": [
       "<IPython.core.display.HTML object>"
      ]
     },
     "metadata": {},
     "output_type": "display_data"
    },
    {
     "data": {
      "text/html": [
       "<div style=\"width:30px;height:30px;background-color:#A43A8F;display:inline;float:left;margin-right:10px;\">&nbsp;</div>#A43A8F"
      ],
      "text/plain": [
       "<IPython.core.display.HTML object>"
      ]
     },
     "metadata": {},
     "output_type": "display_data"
    },
    {
     "data": {
      "text/html": [
       "<div style=\"width:30px;height:30px;background-color:#9E3A91;display:inline;float:left;margin-right:10px;\">&nbsp;</div>#9E3A91"
      ],
      "text/plain": [
       "<IPython.core.display.HTML object>"
      ]
     },
     "metadata": {},
     "output_type": "display_data"
    },
    {
     "data": {
      "text/html": [
       "<div style=\"width:30px;height:30px;background-color:#983B93;display:inline;float:left;margin-right:10px;\">&nbsp;</div>#983B93"
      ],
      "text/plain": [
       "<IPython.core.display.HTML object>"
      ]
     },
     "metadata": {},
     "output_type": "display_data"
    },
    {
     "data": {
      "text/html": [
       "<div style=\"width:30px;height:30px;background-color:#923B94;display:inline;float:left;margin-right:10px;\">&nbsp;</div>#923B94"
      ],
      "text/plain": [
       "<IPython.core.display.HTML object>"
      ]
     },
     "metadata": {},
     "output_type": "display_data"
    },
    {
     "data": {
      "text/html": [
       "<div style=\"width:30px;height:30px;background-color:#8C3B96;display:inline;float:left;margin-right:10px;\">&nbsp;</div>#8C3B96"
      ],
      "text/plain": [
       "<IPython.core.display.HTML object>"
      ]
     },
     "metadata": {},
     "output_type": "display_data"
    },
    {
     "data": {
      "text/html": [
       "<div style=\"width:30px;height:30px;background-color:#863C98;display:inline;float:left;margin-right:10px;\">&nbsp;</div>#863C98"
      ],
      "text/plain": [
       "<IPython.core.display.HTML object>"
      ]
     },
     "metadata": {},
     "output_type": "display_data"
    },
    {
     "data": {
      "text/html": [
       "<div style=\"width:30px;height:30px;background-color:#7F3C9A;display:inline;float:left;margin-right:10px;\">&nbsp;</div>#7F3C9A"
      ],
      "text/plain": [
       "<IPython.core.display.HTML object>"
      ]
     },
     "metadata": {},
     "output_type": "display_data"
    },
    {
     "data": {
      "text/html": [
       "<div style=\"width:30px;height:30px;background-color:#793D9C;display:inline;float:left;margin-right:10px;\">&nbsp;</div>#793D9C"
      ],
      "text/plain": [
       "<IPython.core.display.HTML object>"
      ]
     },
     "metadata": {},
     "output_type": "display_data"
    },
    {
     "data": {
      "text/html": [
       "<div style=\"width:30px;height:30px;background-color:#733D9E;display:inline;float:left;margin-right:10px;\">&nbsp;</div>#733D9E"
      ],
      "text/plain": [
       "<IPython.core.display.HTML object>"
      ]
     },
     "metadata": {},
     "output_type": "display_data"
    },
    {
     "data": {
      "text/html": [
       "<div style=\"width:30px;height:30px;background-color:#6D3D9F;display:inline;float:left;margin-right:10px;\">&nbsp;</div>#6D3D9F"
      ],
      "text/plain": [
       "<IPython.core.display.HTML object>"
      ]
     },
     "metadata": {},
     "output_type": "display_data"
    },
    {
     "data": {
      "text/html": [
       "<div style=\"width:30px;height:30px;background-color:#673EA1;display:inline;float:left;margin-right:10px;\">&nbsp;</div>#673EA1"
      ],
      "text/plain": [
       "<IPython.core.display.HTML object>"
      ]
     },
     "metadata": {},
     "output_type": "display_data"
    },
    {
     "data": {
      "text/html": [
       "<div style=\"width:30px;height:30px;background-color:#613EA3;display:inline;float:left;margin-right:10px;\">&nbsp;</div>#613EA3"
      ],
      "text/plain": [
       "<IPython.core.display.HTML object>"
      ]
     },
     "metadata": {},
     "output_type": "display_data"
    }
   ],
   "source": [
    "qs_colors = [ \"#613EA3\",\"#673EA1\",\"#6D3D9F\",\"#733D9E\",\"#793D9C\",\"#7F3C9A\",\"#863C98\",\"#8C3B96\",\"#923B94\",\"#983B93\",\"#9E3A91\",\"#A43A8F\",    \n",
    "                \"#A34788\",\"#A25481\",\"#A1617A\",\"#A06E73\",\"#9F7B6C\",\"#9E8864\",\"#9D955D\",\"#9CA256\",\"#9BAF4F\",\"#9ABC48\",\"#99C941\",][::-1]\n",
    "for k in qs_colors:\n",
    "    display(HTML(f'''<div style=\"width:30px;height:30px;background-color:{k};display:inline;float:left;margin-right:10px;\">&nbsp;</div>{k}'''))"
   ]
  },
  {
   "cell_type": "code",
   "execution_count": 17,
   "id": "85f784dd-1c4e-456f-907e-4e28afbd7780",
   "metadata": {},
   "outputs": [],
   "source": [
    "# color scale used for the V6\n",
    "colors_violet = color_scale(violet,plum, 32)[:24]\n",
    "\n",
    "# Cut in bins\n",
    "bins = pd.qcut(paris['AGE'], q=len(colors_violet)+1, duplicates='drop', retbins=True)\n",
    "\n",
    "color_scale_violet = list(zip(bins[1], colors_violet))\n",
    "\n",
    "#color_scale_purple = color_scale(green,plum) + color_scale(plum,\"#D8C9FB\")[1:] #   #D8C9FB = \"very light shade of violet\"\n",
    "#color_scale_purple = list(zip(bins[1], color_scale_purple))"
   ]
  },
  {
   "cell_type": "code",
   "execution_count": 18,
   "id": "8690d26a-89fe-4814-a554-e6bd15e8c4a9",
   "metadata": {
    "collapsed": true,
    "jupyter": {
     "outputs_hidden": true
    },
    "tags": []
   },
   "outputs": [
    {
     "data": {
      "text/html": [
       "<div style=\"width:30px;height:30px;background-color:#452392;display:inline;float:left;margin-right:10px;\">&nbsp;</div>#452392"
      ],
      "text/plain": [
       "<IPython.core.display.HTML object>"
      ]
     },
     "metadata": {},
     "output_type": "display_data"
    },
    {
     "data": {
      "text/html": [
       "<div style=\"width:30px;height:30px;background-color:#482391;display:inline;float:left;margin-right:10px;\">&nbsp;</div>#482391"
      ],
      "text/plain": [
       "<IPython.core.display.HTML object>"
      ]
     },
     "metadata": {},
     "output_type": "display_data"
    },
    {
     "data": {
      "text/html": [
       "<div style=\"width:30px;height:30px;background-color:#4b2491;display:inline;float:left;margin-right:10px;\">&nbsp;</div>#4b2491"
      ],
      "text/plain": [
       "<IPython.core.display.HTML object>"
      ]
     },
     "metadata": {},
     "output_type": "display_data"
    },
    {
     "data": {
      "text/html": [
       "<div style=\"width:30px;height:30px;background-color:#4e2591;display:inline;float:left;margin-right:10px;\">&nbsp;</div>#4e2591"
      ],
      "text/plain": [
       "<IPython.core.display.HTML object>"
      ]
     },
     "metadata": {},
     "output_type": "display_data"
    },
    {
     "data": {
      "text/html": [
       "<div style=\"width:30px;height:30px;background-color:#512591;display:inline;float:left;margin-right:10px;\">&nbsp;</div>#512591"
      ],
      "text/plain": [
       "<IPython.core.display.HTML object>"
      ]
     },
     "metadata": {},
     "output_type": "display_data"
    },
    {
     "data": {
      "text/html": [
       "<div style=\"width:30px;height:30px;background-color:#542691;display:inline;float:left;margin-right:10px;\">&nbsp;</div>#542691"
      ],
      "text/plain": [
       "<IPython.core.display.HTML object>"
      ]
     },
     "metadata": {},
     "output_type": "display_data"
    },
    {
     "data": {
      "text/html": [
       "<div style=\"width:30px;height:30px;background-color:#572791;display:inline;float:left;margin-right:10px;\">&nbsp;</div>#572791"
      ],
      "text/plain": [
       "<IPython.core.display.HTML object>"
      ]
     },
     "metadata": {},
     "output_type": "display_data"
    },
    {
     "data": {
      "text/html": [
       "<div style=\"width:30px;height:30px;background-color:#5a2891;display:inline;float:left;margin-right:10px;\">&nbsp;</div>#5a2891"
      ],
      "text/plain": [
       "<IPython.core.display.HTML object>"
      ]
     },
     "metadata": {},
     "output_type": "display_data"
    },
    {
     "data": {
      "text/html": [
       "<div style=\"width:30px;height:30px;background-color:#5d2891;display:inline;float:left;margin-right:10px;\">&nbsp;</div>#5d2891"
      ],
      "text/plain": [
       "<IPython.core.display.HTML object>"
      ]
     },
     "metadata": {},
     "output_type": "display_data"
    },
    {
     "data": {
      "text/html": [
       "<div style=\"width:30px;height:30px;background-color:#602991;display:inline;float:left;margin-right:10px;\">&nbsp;</div>#602991"
      ],
      "text/plain": [
       "<IPython.core.display.HTML object>"
      ]
     },
     "metadata": {},
     "output_type": "display_data"
    },
    {
     "data": {
      "text/html": [
       "<div style=\"width:30px;height:30px;background-color:#632a91;display:inline;float:left;margin-right:10px;\">&nbsp;</div>#632a91"
      ],
      "text/plain": [
       "<IPython.core.display.HTML object>"
      ]
     },
     "metadata": {},
     "output_type": "display_data"
    },
    {
     "data": {
      "text/html": [
       "<div style=\"width:30px;height:30px;background-color:#662b90;display:inline;float:left;margin-right:10px;\">&nbsp;</div>#662b90"
      ],
      "text/plain": [
       "<IPython.core.display.HTML object>"
      ]
     },
     "metadata": {},
     "output_type": "display_data"
    },
    {
     "data": {
      "text/html": [
       "<div style=\"width:30px;height:30px;background-color:#692b90;display:inline;float:left;margin-right:10px;\">&nbsp;</div>#692b90"
      ],
      "text/plain": [
       "<IPython.core.display.HTML object>"
      ]
     },
     "metadata": {},
     "output_type": "display_data"
    },
    {
     "data": {
      "text/html": [
       "<div style=\"width:30px;height:30px;background-color:#6c2c90;display:inline;float:left;margin-right:10px;\">&nbsp;</div>#6c2c90"
      ],
      "text/plain": [
       "<IPython.core.display.HTML object>"
      ]
     },
     "metadata": {},
     "output_type": "display_data"
    },
    {
     "data": {
      "text/html": [
       "<div style=\"width:30px;height:30px;background-color:#6f2d90;display:inline;float:left;margin-right:10px;\">&nbsp;</div>#6f2d90"
      ],
      "text/plain": [
       "<IPython.core.display.HTML object>"
      ]
     },
     "metadata": {},
     "output_type": "display_data"
    },
    {
     "data": {
      "text/html": [
       "<div style=\"width:30px;height:30px;background-color:#722e90;display:inline;float:left;margin-right:10px;\">&nbsp;</div>#722e90"
      ],
      "text/plain": [
       "<IPython.core.display.HTML object>"
      ]
     },
     "metadata": {},
     "output_type": "display_data"
    },
    {
     "data": {
      "text/html": [
       "<div style=\"width:30px;height:30px;background-color:#762e90;display:inline;float:left;margin-right:10px;\">&nbsp;</div>#762e90"
      ],
      "text/plain": [
       "<IPython.core.display.HTML object>"
      ]
     },
     "metadata": {},
     "output_type": "display_data"
    },
    {
     "data": {
      "text/html": [
       "<div style=\"width:30px;height:30px;background-color:#792f90;display:inline;float:left;margin-right:10px;\">&nbsp;</div>#792f90"
      ],
      "text/plain": [
       "<IPython.core.display.HTML object>"
      ]
     },
     "metadata": {},
     "output_type": "display_data"
    },
    {
     "data": {
      "text/html": [
       "<div style=\"width:30px;height:30px;background-color:#7c3090;display:inline;float:left;margin-right:10px;\">&nbsp;</div>#7c3090"
      ],
      "text/plain": [
       "<IPython.core.display.HTML object>"
      ]
     },
     "metadata": {},
     "output_type": "display_data"
    },
    {
     "data": {
      "text/html": [
       "<div style=\"width:30px;height:30px;background-color:#7f3190;display:inline;float:left;margin-right:10px;\">&nbsp;</div>#7f3190"
      ],
      "text/plain": [
       "<IPython.core.display.HTML object>"
      ]
     },
     "metadata": {},
     "output_type": "display_data"
    },
    {
     "data": {
      "text/html": [
       "<div style=\"width:30px;height:30px;background-color:#823190;display:inline;float:left;margin-right:10px;\">&nbsp;</div>#823190"
      ],
      "text/plain": [
       "<IPython.core.display.HTML object>"
      ]
     },
     "metadata": {},
     "output_type": "display_data"
    },
    {
     "data": {
      "text/html": [
       "<div style=\"width:30px;height:30px;background-color:#85328f;display:inline;float:left;margin-right:10px;\">&nbsp;</div>#85328f"
      ],
      "text/plain": [
       "<IPython.core.display.HTML object>"
      ]
     },
     "metadata": {},
     "output_type": "display_data"
    },
    {
     "data": {
      "text/html": [
       "<div style=\"width:30px;height:30px;background-color:#88338f;display:inline;float:left;margin-right:10px;\">&nbsp;</div>#88338f"
      ],
      "text/plain": [
       "<IPython.core.display.HTML object>"
      ]
     },
     "metadata": {},
     "output_type": "display_data"
    }
   ],
   "source": [
    "for (_, k) in color_scale_violet:\n",
    "    display(HTML(f'''<div style=\"width:30px;height:30px;background-color:{k};display:inline;float:left;margin-right:10px;\">&nbsp;</div>{k}'''))"
   ]
  },
  {
   "cell_type": "code",
   "execution_count": 26,
   "id": "4158c28f-3db0-4c3c-946f-cd93a3c0d596",
   "metadata": {
    "tags": []
   },
   "outputs": [
    {
     "data": {
      "text/html": [
       "<div style=\"width:30px;height:30px;background-color:#D8D8D8;display:inline;float:left;margin-right:10px;\">&nbsp;</div>#D8D8D8"
      ],
      "text/plain": [
       "<IPython.core.display.HTML object>"
      ]
     },
     "metadata": {},
     "output_type": "display_data"
    },
    {
     "data": {
      "text/html": [
       "<div style=\"width:30px;height:30px;background-color:#272727;display:inline;float:left;margin-right:10px;\">&nbsp;</div>#272727"
      ],
      "text/plain": [
       "<IPython.core.display.HTML object>"
      ]
     },
     "metadata": {},
     "output_type": "display_data"
    },
    {
     "data": {
      "text/html": [
       "<div style=\"width:30px;height:30px;background-color:#CECECE;display:inline;float:left;margin-right:10px;\">&nbsp;</div>#CECECE"
      ],
      "text/plain": [
       "<IPython.core.display.HTML object>"
      ]
     },
     "metadata": {},
     "output_type": "display_data"
    },
    {
     "data": {
      "text/html": [
       "<div style=\"width:30px;height:30px;background-color:#959DA5;display:inline;float:left;margin-right:10px;\">&nbsp;</div>#959DA5"
      ],
      "text/plain": [
       "<IPython.core.display.HTML object>"
      ]
     },
     "metadata": {},
     "output_type": "display_data"
    },
    {
     "data": {
      "text/html": [
       "<div style=\"width:30px;height:30px;background-color:#555555;display:inline;float:left;margin-right:10px;\">&nbsp;</div>#555555"
      ],
      "text/plain": [
       "<IPython.core.display.HTML object>"
      ]
     },
     "metadata": {},
     "output_type": "display_data"
    }
   ],
   "source": [
    "for k in ['#D8D8D8', '#272727', '#CECECE', '#959DA5', '#'+'5'*6]:\n",
    "    display(HTML(f'''<div style=\"width:30px;height:30px;background-color:{k};display:inline;float:left;margin-right:10px;\">&nbsp;</div>{k}'''))"
   ]
  },
  {
   "cell_type": "code",
   "execution_count": 27,
   "id": "99dca946-5cb3-4090-b027-feb735cd4f73",
   "metadata": {},
   "outputs": [],
   "source": [
    "def color_for_age(age, color_scale, none_color):\n",
    "    if np.isnan(age):\n",
    "        return none_color\n",
    "    \n",
    "    for (a_limit, rgb) in color_scale[::-1]:\n",
    "        if age >= a_limit:\n",
    "            return rgb "
   ]
  },
  {
   "cell_type": "code",
   "execution_count": null,
   "id": "681628b2-7d16-464f-965e-cc3e7a6a3cfd",
   "metadata": {},
   "outputs": [],
   "source": [
    "dark_mode = True\n",
    "\n",
    "def generate_map(gdf, filename, color_scale, bg_color='k', none_color='#555555' ):\n",
    "\n",
    "\n",
    "    ax = plt.figure(figsize = (  65, 45 ) )\n",
    "    plt.axis('off')\n",
    "    ax.set_facecolor(bg_color)\n",
    "\n",
    "    \n",
    "\n",
    "    for (raw_shape, age) in gdf.loc[:,['geometry', 'AGE']].values:\n",
    "\n",
    "        x = raw_shape.exterior.coords.xy[0]\n",
    "        y = raw_shape.exterior.coords.xy[1]\n",
    "        plt.fill(x, y, c=color_for_age(age, color_scale, none_color))\n",
    "\n",
    "        for interior in raw_shape.interiors:\n",
    "            x = [k[0] for k in interior.coords[:]]\n",
    "            y = [k[1] for k in interior.coords[:]]\n",
    "            plt.fill(x, y, c=bg_color)\n",
    "\n",
    "\n",
    "    plt.savefig(filename,  bbox_inches='tight', facecolor=bg_color, edgecolor='none')\n",
    "    return\n",
    "    \n",
    "    \n",
    "generate_map(paris, 'paris_v6.png', color_scale=color_scale_violet)\n",
    "print(\"done\")"
   ]
  },
  {
   "cell_type": "code",
   "execution_count": null,
   "id": "628c2f7a-7244-457f-894c-838a38b67d01",
   "metadata": {},
   "outputs": [],
   "source": []
  },
  {
   "cell_type": "code",
   "execution_count": null,
   "id": "21ba59b6-bf0a-462a-a334-9b4a45099b48",
   "metadata": {},
   "outputs": [],
   "source": []
  }
 ],
 "metadata": {
  "kernelspec": {
   "display_name": "Python 3 (ipykernel)",
   "language": "python",
   "name": "python3"
  },
  "language_info": {
   "codemirror_mode": {
    "name": "ipython",
    "version": 3
   },
   "file_extension": ".py",
   "mimetype": "text/x-python",
   "name": "python",
   "nbconvert_exporter": "python",
   "pygments_lexer": "ipython3",
   "version": "3.9.6"
  }
 },
 "nbformat": 4,
 "nbformat_minor": 5
}
